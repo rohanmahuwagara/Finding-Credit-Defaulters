{
 "cells": [
  {
   "cell_type": "markdown",
   "metadata": {},
   "source": [
    "# Credit defaulters identification using Logistic Regression"
   ]
  },
  {
   "cell_type": "markdown",
   "metadata": {},
   "source": [
    "Introduction to the data set"
   ]
  },
  {
   "cell_type": "markdown",
   "metadata": {},
   "source": [
    "German credit rating dataset contains categorical/symbolic attributes of the persons who availed the credit and the current status of the credit. The status of the credit is indicated by 1 for good credits and 2 for bad credits.\n",
    "\n",
    "The dataset can be downloaded from UCI Repository.\n",
    "\n",
    "https://archive.ics.uci.edu/ml/datasets/Statlog+%28German+Credit+Data%29\n",
    "\n",
    "The detailed description of variables can be found at the same link."
   ]
  },
  {
   "cell_type": "markdown",
   "metadata": {},
   "source": [
    "## Objective of the study"
   ]
  },
  {
   "cell_type": "markdown",
   "metadata": {},
   "source": [
    "1. Read the dataset\n",
    "2. Create dummy variables for the categorical features\n",
    "3. Specify X ( independent) and y (target/dependent) features\n",
    "4. Split datasets into train and test datasets\n",
    "5. Build a logistic regression model\n",
    "6. Find significant variables\n",
    "7. Create confusion matrix to find out Sensitivity and specificity\n",
    "8. Draw ROC Plot\n",
    "9. Find optimal cutoff probability using yoden's index\n",
    "10. Find optimal cutoff probability using cost"
   ]
  },
  {
   "cell_type": "markdown",
   "metadata": {},
   "source": [
    "### Read the data set"
   ]
  },
  {
   "cell_type": "code",
   "execution_count": 1,
   "metadata": {},
   "outputs": [],
   "source": [
    "import pandas as pd\n",
    "import numpy as np"
   ]
  },
  {
   "cell_type": "code",
   "execution_count": 2,
   "metadata": {},
   "outputs": [],
   "source": [
    "data = pd.read_csv( \"german.data\", delim_whitespace = True, header = None )"
   ]
  },
  {
   "cell_type": "code",
   "execution_count": 3,
   "metadata": {},
   "outputs": [
    {
     "data": {
      "text/html": [
       "<div>\n",
       "<style scoped>\n",
       "    .dataframe tbody tr th:only-of-type {\n",
       "        vertical-align: middle;\n",
       "    }\n",
       "\n",
       "    .dataframe tbody tr th {\n",
       "        vertical-align: top;\n",
       "    }\n",
       "\n",
       "    .dataframe thead th {\n",
       "        text-align: right;\n",
       "    }\n",
       "</style>\n",
       "<table border=\"1\" class=\"dataframe\">\n",
       "  <thead>\n",
       "    <tr style=\"text-align: right;\">\n",
       "      <th></th>\n",
       "      <th>0</th>\n",
       "      <th>1</th>\n",
       "      <th>2</th>\n",
       "      <th>3</th>\n",
       "      <th>4</th>\n",
       "      <th>5</th>\n",
       "      <th>6</th>\n",
       "      <th>7</th>\n",
       "      <th>8</th>\n",
       "      <th>9</th>\n",
       "      <th>...</th>\n",
       "      <th>11</th>\n",
       "      <th>12</th>\n",
       "      <th>13</th>\n",
       "      <th>14</th>\n",
       "      <th>15</th>\n",
       "      <th>16</th>\n",
       "      <th>17</th>\n",
       "      <th>18</th>\n",
       "      <th>19</th>\n",
       "      <th>20</th>\n",
       "    </tr>\n",
       "  </thead>\n",
       "  <tbody>\n",
       "    <tr>\n",
       "      <th>0</th>\n",
       "      <td>A11</td>\n",
       "      <td>6</td>\n",
       "      <td>A34</td>\n",
       "      <td>A43</td>\n",
       "      <td>1169</td>\n",
       "      <td>A65</td>\n",
       "      <td>A75</td>\n",
       "      <td>4</td>\n",
       "      <td>A93</td>\n",
       "      <td>A101</td>\n",
       "      <td>...</td>\n",
       "      <td>A121</td>\n",
       "      <td>67</td>\n",
       "      <td>A143</td>\n",
       "      <td>A152</td>\n",
       "      <td>2</td>\n",
       "      <td>A173</td>\n",
       "      <td>1</td>\n",
       "      <td>A192</td>\n",
       "      <td>A201</td>\n",
       "      <td>1</td>\n",
       "    </tr>\n",
       "    <tr>\n",
       "      <th>1</th>\n",
       "      <td>A12</td>\n",
       "      <td>48</td>\n",
       "      <td>A32</td>\n",
       "      <td>A43</td>\n",
       "      <td>5951</td>\n",
       "      <td>A61</td>\n",
       "      <td>A73</td>\n",
       "      <td>2</td>\n",
       "      <td>A92</td>\n",
       "      <td>A101</td>\n",
       "      <td>...</td>\n",
       "      <td>A121</td>\n",
       "      <td>22</td>\n",
       "      <td>A143</td>\n",
       "      <td>A152</td>\n",
       "      <td>1</td>\n",
       "      <td>A173</td>\n",
       "      <td>1</td>\n",
       "      <td>A191</td>\n",
       "      <td>A201</td>\n",
       "      <td>2</td>\n",
       "    </tr>\n",
       "  </tbody>\n",
       "</table>\n",
       "<p>2 rows × 21 columns</p>\n",
       "</div>"
      ],
      "text/plain": [
       "    0   1    2    3     4    5    6   7    8     9  ...    11  12    13    14  \\\n",
       "0  A11   6  A34  A43  1169  A65  A75   4  A93  A101 ...  A121  67  A143  A152   \n",
       "1  A12  48  A32  A43  5951  A61  A73   2  A92  A101 ...  A121  22  A143  A152   \n",
       "\n",
       "  15    16 17    18    19 20  \n",
       "0  2  A173  1  A192  A201  1  \n",
       "1  1  A173  1  A191  A201  2  \n",
       "\n",
       "[2 rows x 21 columns]"
      ]
     },
     "execution_count": 3,
     "metadata": {},
     "output_type": "execute_result"
    }
   ],
   "source": [
    "data.head(2)"
   ]
  },
  {
   "cell_type": "code",
   "execution_count": 4,
   "metadata": {},
   "outputs": [],
   "source": [
    "columns = ['checkin_acc', 'duration', 'credit_history', 'purpose', 'amount', 'svaing_acc', 'present_emp_since', \n",
    "           'inst_rate', 'personal_status', 'other_debtors', 'residing_since', 'property', 'age','inst_plans', 'housing', \n",
    "           'num_credits', 'job', 'dependents', 'telephone', 'foreign_worker', 'status']"
   ]
  },
  {
   "cell_type": "code",
   "execution_count": 5,
   "metadata": {},
   "outputs": [],
   "source": [
    "data.columns = columns"
   ]
  },
  {
   "cell_type": "code",
   "execution_count": 6,
   "metadata": {},
   "outputs": [
    {
     "data": {
      "text/html": [
       "<div>\n",
       "<style scoped>\n",
       "    .dataframe tbody tr th:only-of-type {\n",
       "        vertical-align: middle;\n",
       "    }\n",
       "\n",
       "    .dataframe tbody tr th {\n",
       "        vertical-align: top;\n",
       "    }\n",
       "\n",
       "    .dataframe thead th {\n",
       "        text-align: right;\n",
       "    }\n",
       "</style>\n",
       "<table border=\"1\" class=\"dataframe\">\n",
       "  <thead>\n",
       "    <tr style=\"text-align: right;\">\n",
       "      <th></th>\n",
       "      <th>checkin_acc</th>\n",
       "      <th>duration</th>\n",
       "      <th>credit_history</th>\n",
       "      <th>purpose</th>\n",
       "      <th>amount</th>\n",
       "      <th>svaing_acc</th>\n",
       "      <th>present_emp_since</th>\n",
       "      <th>inst_rate</th>\n",
       "      <th>personal_status</th>\n",
       "      <th>other_debtors</th>\n",
       "      <th>...</th>\n",
       "      <th>property</th>\n",
       "      <th>age</th>\n",
       "      <th>inst_plans</th>\n",
       "      <th>housing</th>\n",
       "      <th>num_credits</th>\n",
       "      <th>job</th>\n",
       "      <th>dependents</th>\n",
       "      <th>telephone</th>\n",
       "      <th>foreign_worker</th>\n",
       "      <th>status</th>\n",
       "    </tr>\n",
       "  </thead>\n",
       "  <tbody>\n",
       "    <tr>\n",
       "      <th>0</th>\n",
       "      <td>A11</td>\n",
       "      <td>6</td>\n",
       "      <td>A34</td>\n",
       "      <td>A43</td>\n",
       "      <td>1169</td>\n",
       "      <td>A65</td>\n",
       "      <td>A75</td>\n",
       "      <td>4</td>\n",
       "      <td>A93</td>\n",
       "      <td>A101</td>\n",
       "      <td>...</td>\n",
       "      <td>A121</td>\n",
       "      <td>67</td>\n",
       "      <td>A143</td>\n",
       "      <td>A152</td>\n",
       "      <td>2</td>\n",
       "      <td>A173</td>\n",
       "      <td>1</td>\n",
       "      <td>A192</td>\n",
       "      <td>A201</td>\n",
       "      <td>1</td>\n",
       "    </tr>\n",
       "    <tr>\n",
       "      <th>1</th>\n",
       "      <td>A12</td>\n",
       "      <td>48</td>\n",
       "      <td>A32</td>\n",
       "      <td>A43</td>\n",
       "      <td>5951</td>\n",
       "      <td>A61</td>\n",
       "      <td>A73</td>\n",
       "      <td>2</td>\n",
       "      <td>A92</td>\n",
       "      <td>A101</td>\n",
       "      <td>...</td>\n",
       "      <td>A121</td>\n",
       "      <td>22</td>\n",
       "      <td>A143</td>\n",
       "      <td>A152</td>\n",
       "      <td>1</td>\n",
       "      <td>A173</td>\n",
       "      <td>1</td>\n",
       "      <td>A191</td>\n",
       "      <td>A201</td>\n",
       "      <td>2</td>\n",
       "    </tr>\n",
       "  </tbody>\n",
       "</table>\n",
       "<p>2 rows × 21 columns</p>\n",
       "</div>"
      ],
      "text/plain": [
       "  checkin_acc  duration credit_history purpose  amount svaing_acc  \\\n",
       "0         A11         6            A34     A43    1169        A65   \n",
       "1         A12        48            A32     A43    5951        A61   \n",
       "\n",
       "  present_emp_since  inst_rate personal_status other_debtors  ...    property  \\\n",
       "0               A75          4             A93          A101  ...        A121   \n",
       "1               A73          2             A92          A101  ...        A121   \n",
       "\n",
       "  age  inst_plans housing num_credits   job dependents  telephone  \\\n",
       "0  67        A143    A152           2  A173          1       A192   \n",
       "1  22        A143    A152           1  A173          1       A191   \n",
       "\n",
       "  foreign_worker status  \n",
       "0           A201      1  \n",
       "1           A201      2  \n",
       "\n",
       "[2 rows x 21 columns]"
      ]
     },
     "execution_count": 6,
     "metadata": {},
     "output_type": "execute_result"
    }
   ],
   "source": [
    "data.head(2)"
   ]
  },
  {
   "cell_type": "code",
   "execution_count": 7,
   "metadata": {},
   "outputs": [
    {
     "data": {
      "text/html": [
       "<div>\n",
       "<style scoped>\n",
       "    .dataframe tbody tr th:only-of-type {\n",
       "        vertical-align: middle;\n",
       "    }\n",
       "\n",
       "    .dataframe tbody tr th {\n",
       "        vertical-align: top;\n",
       "    }\n",
       "\n",
       "    .dataframe thead th {\n",
       "        text-align: right;\n",
       "    }\n",
       "</style>\n",
       "<table border=\"1\" class=\"dataframe\">\n",
       "  <thead>\n",
       "    <tr style=\"text-align: right;\">\n",
       "      <th></th>\n",
       "      <th>0</th>\n",
       "      <th>1</th>\n",
       "      <th>2</th>\n",
       "      <th>3</th>\n",
       "      <th>4</th>\n",
       "    </tr>\n",
       "  </thead>\n",
       "  <tbody>\n",
       "    <tr>\n",
       "      <th>checkin_acc</th>\n",
       "      <td>A11</td>\n",
       "      <td>A12</td>\n",
       "      <td>A14</td>\n",
       "      <td>A11</td>\n",
       "      <td>A11</td>\n",
       "    </tr>\n",
       "    <tr>\n",
       "      <th>duration</th>\n",
       "      <td>6</td>\n",
       "      <td>48</td>\n",
       "      <td>12</td>\n",
       "      <td>42</td>\n",
       "      <td>24</td>\n",
       "    </tr>\n",
       "    <tr>\n",
       "      <th>credit_history</th>\n",
       "      <td>A34</td>\n",
       "      <td>A32</td>\n",
       "      <td>A34</td>\n",
       "      <td>A32</td>\n",
       "      <td>A33</td>\n",
       "    </tr>\n",
       "    <tr>\n",
       "      <th>purpose</th>\n",
       "      <td>A43</td>\n",
       "      <td>A43</td>\n",
       "      <td>A46</td>\n",
       "      <td>A42</td>\n",
       "      <td>A40</td>\n",
       "    </tr>\n",
       "    <tr>\n",
       "      <th>amount</th>\n",
       "      <td>1169</td>\n",
       "      <td>5951</td>\n",
       "      <td>2096</td>\n",
       "      <td>7882</td>\n",
       "      <td>4870</td>\n",
       "    </tr>\n",
       "    <tr>\n",
       "      <th>svaing_acc</th>\n",
       "      <td>A65</td>\n",
       "      <td>A61</td>\n",
       "      <td>A61</td>\n",
       "      <td>A61</td>\n",
       "      <td>A61</td>\n",
       "    </tr>\n",
       "    <tr>\n",
       "      <th>present_emp_since</th>\n",
       "      <td>A75</td>\n",
       "      <td>A73</td>\n",
       "      <td>A74</td>\n",
       "      <td>A74</td>\n",
       "      <td>A73</td>\n",
       "    </tr>\n",
       "    <tr>\n",
       "      <th>inst_rate</th>\n",
       "      <td>4</td>\n",
       "      <td>2</td>\n",
       "      <td>2</td>\n",
       "      <td>2</td>\n",
       "      <td>3</td>\n",
       "    </tr>\n",
       "    <tr>\n",
       "      <th>personal_status</th>\n",
       "      <td>A93</td>\n",
       "      <td>A92</td>\n",
       "      <td>A93</td>\n",
       "      <td>A93</td>\n",
       "      <td>A93</td>\n",
       "    </tr>\n",
       "    <tr>\n",
       "      <th>other_debtors</th>\n",
       "      <td>A101</td>\n",
       "      <td>A101</td>\n",
       "      <td>A101</td>\n",
       "      <td>A103</td>\n",
       "      <td>A101</td>\n",
       "    </tr>\n",
       "    <tr>\n",
       "      <th>residing_since</th>\n",
       "      <td>4</td>\n",
       "      <td>2</td>\n",
       "      <td>3</td>\n",
       "      <td>4</td>\n",
       "      <td>4</td>\n",
       "    </tr>\n",
       "    <tr>\n",
       "      <th>property</th>\n",
       "      <td>A121</td>\n",
       "      <td>A121</td>\n",
       "      <td>A121</td>\n",
       "      <td>A122</td>\n",
       "      <td>A124</td>\n",
       "    </tr>\n",
       "    <tr>\n",
       "      <th>age</th>\n",
       "      <td>67</td>\n",
       "      <td>22</td>\n",
       "      <td>49</td>\n",
       "      <td>45</td>\n",
       "      <td>53</td>\n",
       "    </tr>\n",
       "    <tr>\n",
       "      <th>inst_plans</th>\n",
       "      <td>A143</td>\n",
       "      <td>A143</td>\n",
       "      <td>A143</td>\n",
       "      <td>A143</td>\n",
       "      <td>A143</td>\n",
       "    </tr>\n",
       "    <tr>\n",
       "      <th>housing</th>\n",
       "      <td>A152</td>\n",
       "      <td>A152</td>\n",
       "      <td>A152</td>\n",
       "      <td>A153</td>\n",
       "      <td>A153</td>\n",
       "    </tr>\n",
       "    <tr>\n",
       "      <th>num_credits</th>\n",
       "      <td>2</td>\n",
       "      <td>1</td>\n",
       "      <td>1</td>\n",
       "      <td>1</td>\n",
       "      <td>2</td>\n",
       "    </tr>\n",
       "    <tr>\n",
       "      <th>job</th>\n",
       "      <td>A173</td>\n",
       "      <td>A173</td>\n",
       "      <td>A172</td>\n",
       "      <td>A173</td>\n",
       "      <td>A173</td>\n",
       "    </tr>\n",
       "    <tr>\n",
       "      <th>dependents</th>\n",
       "      <td>1</td>\n",
       "      <td>1</td>\n",
       "      <td>2</td>\n",
       "      <td>2</td>\n",
       "      <td>2</td>\n",
       "    </tr>\n",
       "    <tr>\n",
       "      <th>telephone</th>\n",
       "      <td>A192</td>\n",
       "      <td>A191</td>\n",
       "      <td>A191</td>\n",
       "      <td>A191</td>\n",
       "      <td>A191</td>\n",
       "    </tr>\n",
       "    <tr>\n",
       "      <th>foreign_worker</th>\n",
       "      <td>A201</td>\n",
       "      <td>A201</td>\n",
       "      <td>A201</td>\n",
       "      <td>A201</td>\n",
       "      <td>A201</td>\n",
       "    </tr>\n",
       "    <tr>\n",
       "      <th>status</th>\n",
       "      <td>1</td>\n",
       "      <td>2</td>\n",
       "      <td>1</td>\n",
       "      <td>1</td>\n",
       "      <td>2</td>\n",
       "    </tr>\n",
       "  </tbody>\n",
       "</table>\n",
       "</div>"
      ],
      "text/plain": [
       "                      0     1     2     3     4\n",
       "checkin_acc         A11   A12   A14   A11   A11\n",
       "duration              6    48    12    42    24\n",
       "credit_history      A34   A32   A34   A32   A33\n",
       "purpose             A43   A43   A46   A42   A40\n",
       "amount             1169  5951  2096  7882  4870\n",
       "svaing_acc          A65   A61   A61   A61   A61\n",
       "present_emp_since   A75   A73   A74   A74   A73\n",
       "inst_rate             4     2     2     2     3\n",
       "personal_status     A93   A92   A93   A93   A93\n",
       "other_debtors      A101  A101  A101  A103  A101\n",
       "residing_since        4     2     3     4     4\n",
       "property           A121  A121  A121  A122  A124\n",
       "age                  67    22    49    45    53\n",
       "inst_plans         A143  A143  A143  A143  A143\n",
       "housing            A152  A152  A152  A153  A153\n",
       "num_credits           2     1     1     1     2\n",
       "job                A173  A173  A172  A173  A173\n",
       "dependents            1     1     2     2     2\n",
       "telephone          A192  A191  A191  A191  A191\n",
       "foreign_worker     A201  A201  A201  A201  A201\n",
       "status                1     2     1     1     2"
      ]
     },
     "execution_count": 7,
     "metadata": {},
     "output_type": "execute_result"
    }
   ],
   "source": [
    "data.head().T"
   ]
  },
  {
   "cell_type": "code",
   "execution_count": 8,
   "metadata": {},
   "outputs": [
    {
     "name": "stdout",
     "output_type": "stream",
     "text": [
      "<class 'pandas.core.frame.DataFrame'>\n",
      "RangeIndex: 1000 entries, 0 to 999\n",
      "Data columns (total 21 columns):\n",
      "checkin_acc          1000 non-null object\n",
      "duration             1000 non-null int64\n",
      "credit_history       1000 non-null object\n",
      "purpose              1000 non-null object\n",
      "amount               1000 non-null int64\n",
      "svaing_acc           1000 non-null object\n",
      "present_emp_since    1000 non-null object\n",
      "inst_rate            1000 non-null int64\n",
      "personal_status      1000 non-null object\n",
      "other_debtors        1000 non-null object\n",
      "residing_since       1000 non-null int64\n",
      "property             1000 non-null object\n",
      "age                  1000 non-null int64\n",
      "inst_plans           1000 non-null object\n",
      "housing              1000 non-null object\n",
      "num_credits          1000 non-null int64\n",
      "job                  1000 non-null object\n",
      "dependents           1000 non-null int64\n",
      "telephone            1000 non-null object\n",
      "foreign_worker       1000 non-null object\n",
      "status               1000 non-null int64\n",
      "dtypes: int64(8), object(13)\n",
      "memory usage: 164.1+ KB\n"
     ]
    }
   ],
   "source": [
    "data.info()"
   ]
  },
  {
   "cell_type": "markdown",
   "metadata": {},
   "source": [
    "#### How many default and no default observations in the sample"
   ]
  },
  {
   "cell_type": "code",
   "execution_count": 9,
   "metadata": {},
   "outputs": [
    {
     "data": {
      "text/plain": [
       "1    700\n",
       "2    300\n",
       "Name: status, dtype: int64"
      ]
     },
     "execution_count": 9,
     "metadata": {},
     "output_type": "execute_result"
    }
   ],
   "source": [
    "data.status.value_counts()"
   ]
  },
  {
   "cell_type": "markdown",
   "metadata": {},
   "source": [
    "There are about 300 defaults and 700 non-default observations"
   ]
  },
  {
   "cell_type": "markdown",
   "metadata": {},
   "source": [
    "### Create dummy variables for the categorical features"
   ]
  },
  {
   "cell_type": "code",
   "execution_count": 10,
   "metadata": {},
   "outputs": [
    {
     "data": {
      "text/plain": [
       "Index(['checkin_acc', 'duration', 'credit_history', 'purpose', 'amount',\n",
       "       'svaing_acc', 'present_emp_since', 'inst_rate', 'personal_status',\n",
       "       'other_debtors', 'residing_since', 'property', 'age', 'inst_plans',\n",
       "       'housing', 'num_credits', 'job', 'dependents', 'telephone',\n",
       "       'foreign_worker', 'status'],\n",
       "      dtype='object')"
      ]
     },
     "execution_count": 10,
     "metadata": {},
     "output_type": "execute_result"
    }
   ],
   "source": [
    "data.columns"
   ]
  },
  {
   "cell_type": "code",
   "execution_count": 11,
   "metadata": {},
   "outputs": [
    {
     "data": {
      "text/plain": [
       "['checkin_acc',\n",
       " 'duration',\n",
       " 'credit_history',\n",
       " 'purpose',\n",
       " 'amount',\n",
       " 'svaing_acc',\n",
       " 'present_emp_since',\n",
       " 'inst_rate',\n",
       " 'personal_status',\n",
       " 'other_debtors',\n",
       " 'residing_since',\n",
       " 'property',\n",
       " 'age',\n",
       " 'inst_plans',\n",
       " 'housing',\n",
       " 'num_credits',\n",
       " 'job',\n",
       " 'dependents',\n",
       " 'telephone',\n",
       " 'foreign_worker',\n",
       " 'status']"
      ]
     },
     "execution_count": 11,
     "metadata": {},
     "output_type": "execute_result"
    }
   ],
   "source": [
    "list(data.columns )"
   ]
  },
  {
   "cell_type": "markdown",
   "metadata": {},
   "source": [
    "#### Remove the response variable from the dataset"
   ]
  },
  {
   "cell_type": "code",
   "execution_count": 14,
   "metadata": {},
   "outputs": [
    {
     "data": {
      "text/plain": [
       "['checkin_acc',\n",
       " 'duration',\n",
       " 'credit_history',\n",
       " 'purpose',\n",
       " 'amount',\n",
       " 'svaing_acc',\n",
       " 'present_emp_since',\n",
       " 'inst_rate',\n",
       " 'personal_status',\n",
       " 'other_debtors',\n",
       " 'residing_since',\n",
       " 'property',\n",
       " 'age',\n",
       " 'inst_plans',\n",
       " 'housing',\n",
       " 'num_credits',\n",
       " 'job',\n",
       " 'dependents',\n",
       " 'telephone',\n",
       " 'foreign_worker']"
      ]
     },
     "execution_count": 14,
     "metadata": {},
     "output_type": "execute_result"
    }
   ],
   "source": [
    "X_features = list(data.columns )\n",
    "X_features.remove( 'status' )\n",
    "X_features"
   ]
  },
  {
   "cell_type": "markdown",
   "metadata": {
    "collapsed": true
   },
   "source": []
  },
  {
   "cell_type": "code",
   "execution_count": 20,
   "metadata": {},
   "outputs": [
    {
     "data": {
      "text/plain": [
       "48"
      ]
     },
     "execution_count": 20,
     "metadata": {},
     "output_type": "execute_result"
    }
   ],
   "source": [
    "data_complete = pd.get_dummies(data[X_features],drop_first=True )\n",
    "len(data_complete.columns )"
   ]
  },
  {
   "cell_type": "code",
   "execution_count": 16,
   "metadata": {},
   "outputs": [
    {
     "data": {
      "text/html": [
       "<div>\n",
       "<style scoped>\n",
       "    .dataframe tbody tr th:only-of-type {\n",
       "        vertical-align: middle;\n",
       "    }\n",
       "\n",
       "    .dataframe tbody tr th {\n",
       "        vertical-align: top;\n",
       "    }\n",
       "\n",
       "    .dataframe thead th {\n",
       "        text-align: right;\n",
       "    }\n",
       "</style>\n",
       "<table border=\"1\" class=\"dataframe\">\n",
       "  <thead>\n",
       "    <tr style=\"text-align: right;\">\n",
       "      <th></th>\n",
       "      <th>0</th>\n",
       "      <th>1</th>\n",
       "      <th>2</th>\n",
       "      <th>3</th>\n",
       "      <th>4</th>\n",
       "    </tr>\n",
       "  </thead>\n",
       "  <tbody>\n",
       "    <tr>\n",
       "      <th>duration</th>\n",
       "      <td>6</td>\n",
       "      <td>48</td>\n",
       "      <td>12</td>\n",
       "      <td>42</td>\n",
       "      <td>24</td>\n",
       "    </tr>\n",
       "    <tr>\n",
       "      <th>amount</th>\n",
       "      <td>1169</td>\n",
       "      <td>5951</td>\n",
       "      <td>2096</td>\n",
       "      <td>7882</td>\n",
       "      <td>4870</td>\n",
       "    </tr>\n",
       "    <tr>\n",
       "      <th>inst_rate</th>\n",
       "      <td>4</td>\n",
       "      <td>2</td>\n",
       "      <td>2</td>\n",
       "      <td>2</td>\n",
       "      <td>3</td>\n",
       "    </tr>\n",
       "    <tr>\n",
       "      <th>residing_since</th>\n",
       "      <td>4</td>\n",
       "      <td>2</td>\n",
       "      <td>3</td>\n",
       "      <td>4</td>\n",
       "      <td>4</td>\n",
       "    </tr>\n",
       "    <tr>\n",
       "      <th>age</th>\n",
       "      <td>67</td>\n",
       "      <td>22</td>\n",
       "      <td>49</td>\n",
       "      <td>45</td>\n",
       "      <td>53</td>\n",
       "    </tr>\n",
       "    <tr>\n",
       "      <th>num_credits</th>\n",
       "      <td>2</td>\n",
       "      <td>1</td>\n",
       "      <td>1</td>\n",
       "      <td>1</td>\n",
       "      <td>2</td>\n",
       "    </tr>\n",
       "    <tr>\n",
       "      <th>dependents</th>\n",
       "      <td>1</td>\n",
       "      <td>1</td>\n",
       "      <td>2</td>\n",
       "      <td>2</td>\n",
       "      <td>2</td>\n",
       "    </tr>\n",
       "    <tr>\n",
       "      <th>checkin_acc_A12</th>\n",
       "      <td>0</td>\n",
       "      <td>1</td>\n",
       "      <td>0</td>\n",
       "      <td>0</td>\n",
       "      <td>0</td>\n",
       "    </tr>\n",
       "    <tr>\n",
       "      <th>checkin_acc_A13</th>\n",
       "      <td>0</td>\n",
       "      <td>0</td>\n",
       "      <td>0</td>\n",
       "      <td>0</td>\n",
       "      <td>0</td>\n",
       "    </tr>\n",
       "    <tr>\n",
       "      <th>checkin_acc_A14</th>\n",
       "      <td>0</td>\n",
       "      <td>0</td>\n",
       "      <td>1</td>\n",
       "      <td>0</td>\n",
       "      <td>0</td>\n",
       "    </tr>\n",
       "    <tr>\n",
       "      <th>credit_history_A31</th>\n",
       "      <td>0</td>\n",
       "      <td>0</td>\n",
       "      <td>0</td>\n",
       "      <td>0</td>\n",
       "      <td>0</td>\n",
       "    </tr>\n",
       "    <tr>\n",
       "      <th>credit_history_A32</th>\n",
       "      <td>0</td>\n",
       "      <td>1</td>\n",
       "      <td>0</td>\n",
       "      <td>1</td>\n",
       "      <td>0</td>\n",
       "    </tr>\n",
       "    <tr>\n",
       "      <th>credit_history_A33</th>\n",
       "      <td>0</td>\n",
       "      <td>0</td>\n",
       "      <td>0</td>\n",
       "      <td>0</td>\n",
       "      <td>1</td>\n",
       "    </tr>\n",
       "    <tr>\n",
       "      <th>credit_history_A34</th>\n",
       "      <td>1</td>\n",
       "      <td>0</td>\n",
       "      <td>1</td>\n",
       "      <td>0</td>\n",
       "      <td>0</td>\n",
       "    </tr>\n",
       "    <tr>\n",
       "      <th>purpose_A41</th>\n",
       "      <td>0</td>\n",
       "      <td>0</td>\n",
       "      <td>0</td>\n",
       "      <td>0</td>\n",
       "      <td>0</td>\n",
       "    </tr>\n",
       "    <tr>\n",
       "      <th>purpose_A410</th>\n",
       "      <td>0</td>\n",
       "      <td>0</td>\n",
       "      <td>0</td>\n",
       "      <td>0</td>\n",
       "      <td>0</td>\n",
       "    </tr>\n",
       "    <tr>\n",
       "      <th>purpose_A42</th>\n",
       "      <td>0</td>\n",
       "      <td>0</td>\n",
       "      <td>0</td>\n",
       "      <td>1</td>\n",
       "      <td>0</td>\n",
       "    </tr>\n",
       "    <tr>\n",
       "      <th>purpose_A43</th>\n",
       "      <td>1</td>\n",
       "      <td>1</td>\n",
       "      <td>0</td>\n",
       "      <td>0</td>\n",
       "      <td>0</td>\n",
       "    </tr>\n",
       "    <tr>\n",
       "      <th>purpose_A44</th>\n",
       "      <td>0</td>\n",
       "      <td>0</td>\n",
       "      <td>0</td>\n",
       "      <td>0</td>\n",
       "      <td>0</td>\n",
       "    </tr>\n",
       "    <tr>\n",
       "      <th>purpose_A45</th>\n",
       "      <td>0</td>\n",
       "      <td>0</td>\n",
       "      <td>0</td>\n",
       "      <td>0</td>\n",
       "      <td>0</td>\n",
       "    </tr>\n",
       "    <tr>\n",
       "      <th>purpose_A46</th>\n",
       "      <td>0</td>\n",
       "      <td>0</td>\n",
       "      <td>1</td>\n",
       "      <td>0</td>\n",
       "      <td>0</td>\n",
       "    </tr>\n",
       "    <tr>\n",
       "      <th>purpose_A48</th>\n",
       "      <td>0</td>\n",
       "      <td>0</td>\n",
       "      <td>0</td>\n",
       "      <td>0</td>\n",
       "      <td>0</td>\n",
       "    </tr>\n",
       "    <tr>\n",
       "      <th>purpose_A49</th>\n",
       "      <td>0</td>\n",
       "      <td>0</td>\n",
       "      <td>0</td>\n",
       "      <td>0</td>\n",
       "      <td>0</td>\n",
       "    </tr>\n",
       "    <tr>\n",
       "      <th>svaing_acc_A62</th>\n",
       "      <td>0</td>\n",
       "      <td>0</td>\n",
       "      <td>0</td>\n",
       "      <td>0</td>\n",
       "      <td>0</td>\n",
       "    </tr>\n",
       "    <tr>\n",
       "      <th>svaing_acc_A63</th>\n",
       "      <td>0</td>\n",
       "      <td>0</td>\n",
       "      <td>0</td>\n",
       "      <td>0</td>\n",
       "      <td>0</td>\n",
       "    </tr>\n",
       "    <tr>\n",
       "      <th>svaing_acc_A64</th>\n",
       "      <td>0</td>\n",
       "      <td>0</td>\n",
       "      <td>0</td>\n",
       "      <td>0</td>\n",
       "      <td>0</td>\n",
       "    </tr>\n",
       "    <tr>\n",
       "      <th>svaing_acc_A65</th>\n",
       "      <td>1</td>\n",
       "      <td>0</td>\n",
       "      <td>0</td>\n",
       "      <td>0</td>\n",
       "      <td>0</td>\n",
       "    </tr>\n",
       "    <tr>\n",
       "      <th>present_emp_since_A72</th>\n",
       "      <td>0</td>\n",
       "      <td>0</td>\n",
       "      <td>0</td>\n",
       "      <td>0</td>\n",
       "      <td>0</td>\n",
       "    </tr>\n",
       "    <tr>\n",
       "      <th>present_emp_since_A73</th>\n",
       "      <td>0</td>\n",
       "      <td>1</td>\n",
       "      <td>0</td>\n",
       "      <td>0</td>\n",
       "      <td>1</td>\n",
       "    </tr>\n",
       "    <tr>\n",
       "      <th>present_emp_since_A74</th>\n",
       "      <td>0</td>\n",
       "      <td>0</td>\n",
       "      <td>1</td>\n",
       "      <td>1</td>\n",
       "      <td>0</td>\n",
       "    </tr>\n",
       "    <tr>\n",
       "      <th>present_emp_since_A75</th>\n",
       "      <td>1</td>\n",
       "      <td>0</td>\n",
       "      <td>0</td>\n",
       "      <td>0</td>\n",
       "      <td>0</td>\n",
       "    </tr>\n",
       "    <tr>\n",
       "      <th>personal_status_A92</th>\n",
       "      <td>0</td>\n",
       "      <td>1</td>\n",
       "      <td>0</td>\n",
       "      <td>0</td>\n",
       "      <td>0</td>\n",
       "    </tr>\n",
       "    <tr>\n",
       "      <th>personal_status_A93</th>\n",
       "      <td>1</td>\n",
       "      <td>0</td>\n",
       "      <td>1</td>\n",
       "      <td>1</td>\n",
       "      <td>1</td>\n",
       "    </tr>\n",
       "    <tr>\n",
       "      <th>personal_status_A94</th>\n",
       "      <td>0</td>\n",
       "      <td>0</td>\n",
       "      <td>0</td>\n",
       "      <td>0</td>\n",
       "      <td>0</td>\n",
       "    </tr>\n",
       "    <tr>\n",
       "      <th>other_debtors_A102</th>\n",
       "      <td>0</td>\n",
       "      <td>0</td>\n",
       "      <td>0</td>\n",
       "      <td>0</td>\n",
       "      <td>0</td>\n",
       "    </tr>\n",
       "    <tr>\n",
       "      <th>other_debtors_A103</th>\n",
       "      <td>0</td>\n",
       "      <td>0</td>\n",
       "      <td>0</td>\n",
       "      <td>1</td>\n",
       "      <td>0</td>\n",
       "    </tr>\n",
       "    <tr>\n",
       "      <th>property_A122</th>\n",
       "      <td>0</td>\n",
       "      <td>0</td>\n",
       "      <td>0</td>\n",
       "      <td>1</td>\n",
       "      <td>0</td>\n",
       "    </tr>\n",
       "    <tr>\n",
       "      <th>property_A123</th>\n",
       "      <td>0</td>\n",
       "      <td>0</td>\n",
       "      <td>0</td>\n",
       "      <td>0</td>\n",
       "      <td>0</td>\n",
       "    </tr>\n",
       "    <tr>\n",
       "      <th>property_A124</th>\n",
       "      <td>0</td>\n",
       "      <td>0</td>\n",
       "      <td>0</td>\n",
       "      <td>0</td>\n",
       "      <td>1</td>\n",
       "    </tr>\n",
       "    <tr>\n",
       "      <th>inst_plans_A142</th>\n",
       "      <td>0</td>\n",
       "      <td>0</td>\n",
       "      <td>0</td>\n",
       "      <td>0</td>\n",
       "      <td>0</td>\n",
       "    </tr>\n",
       "    <tr>\n",
       "      <th>inst_plans_A143</th>\n",
       "      <td>1</td>\n",
       "      <td>1</td>\n",
       "      <td>1</td>\n",
       "      <td>1</td>\n",
       "      <td>1</td>\n",
       "    </tr>\n",
       "    <tr>\n",
       "      <th>housing_A152</th>\n",
       "      <td>1</td>\n",
       "      <td>1</td>\n",
       "      <td>1</td>\n",
       "      <td>0</td>\n",
       "      <td>0</td>\n",
       "    </tr>\n",
       "    <tr>\n",
       "      <th>housing_A153</th>\n",
       "      <td>0</td>\n",
       "      <td>0</td>\n",
       "      <td>0</td>\n",
       "      <td>1</td>\n",
       "      <td>1</td>\n",
       "    </tr>\n",
       "    <tr>\n",
       "      <th>job_A172</th>\n",
       "      <td>0</td>\n",
       "      <td>0</td>\n",
       "      <td>1</td>\n",
       "      <td>0</td>\n",
       "      <td>0</td>\n",
       "    </tr>\n",
       "    <tr>\n",
       "      <th>job_A173</th>\n",
       "      <td>1</td>\n",
       "      <td>1</td>\n",
       "      <td>0</td>\n",
       "      <td>1</td>\n",
       "      <td>1</td>\n",
       "    </tr>\n",
       "    <tr>\n",
       "      <th>job_A174</th>\n",
       "      <td>0</td>\n",
       "      <td>0</td>\n",
       "      <td>0</td>\n",
       "      <td>0</td>\n",
       "      <td>0</td>\n",
       "    </tr>\n",
       "    <tr>\n",
       "      <th>telephone_A192</th>\n",
       "      <td>1</td>\n",
       "      <td>0</td>\n",
       "      <td>0</td>\n",
       "      <td>0</td>\n",
       "      <td>0</td>\n",
       "    </tr>\n",
       "    <tr>\n",
       "      <th>foreign_worker_A202</th>\n",
       "      <td>0</td>\n",
       "      <td>0</td>\n",
       "      <td>0</td>\n",
       "      <td>0</td>\n",
       "      <td>0</td>\n",
       "    </tr>\n",
       "  </tbody>\n",
       "</table>\n",
       "</div>"
      ],
      "text/plain": [
       "                          0     1     2     3     4\n",
       "duration                  6    48    12    42    24\n",
       "amount                 1169  5951  2096  7882  4870\n",
       "inst_rate                 4     2     2     2     3\n",
       "residing_since            4     2     3     4     4\n",
       "age                      67    22    49    45    53\n",
       "num_credits               2     1     1     1     2\n",
       "dependents                1     1     2     2     2\n",
       "checkin_acc_A12           0     1     0     0     0\n",
       "checkin_acc_A13           0     0     0     0     0\n",
       "checkin_acc_A14           0     0     1     0     0\n",
       "credit_history_A31        0     0     0     0     0\n",
       "credit_history_A32        0     1     0     1     0\n",
       "credit_history_A33        0     0     0     0     1\n",
       "credit_history_A34        1     0     1     0     0\n",
       "purpose_A41               0     0     0     0     0\n",
       "purpose_A410              0     0     0     0     0\n",
       "purpose_A42               0     0     0     1     0\n",
       "purpose_A43               1     1     0     0     0\n",
       "purpose_A44               0     0     0     0     0\n",
       "purpose_A45               0     0     0     0     0\n",
       "purpose_A46               0     0     1     0     0\n",
       "purpose_A48               0     0     0     0     0\n",
       "purpose_A49               0     0     0     0     0\n",
       "svaing_acc_A62            0     0     0     0     0\n",
       "svaing_acc_A63            0     0     0     0     0\n",
       "svaing_acc_A64            0     0     0     0     0\n",
       "svaing_acc_A65            1     0     0     0     0\n",
       "present_emp_since_A72     0     0     0     0     0\n",
       "present_emp_since_A73     0     1     0     0     1\n",
       "present_emp_since_A74     0     0     1     1     0\n",
       "present_emp_since_A75     1     0     0     0     0\n",
       "personal_status_A92       0     1     0     0     0\n",
       "personal_status_A93       1     0     1     1     1\n",
       "personal_status_A94       0     0     0     0     0\n",
       "other_debtors_A102        0     0     0     0     0\n",
       "other_debtors_A103        0     0     0     1     0\n",
       "property_A122             0     0     0     1     0\n",
       "property_A123             0     0     0     0     0\n",
       "property_A124             0     0     0     0     1\n",
       "inst_plans_A142           0     0     0     0     0\n",
       "inst_plans_A143           1     1     1     1     1\n",
       "housing_A152              1     1     1     0     0\n",
       "housing_A153              0     0     0     1     1\n",
       "job_A172                  0     0     1     0     0\n",
       "job_A173                  1     1     0     1     1\n",
       "job_A174                  0     0     0     0     0\n",
       "telephone_A192            1     0     0     0     0\n",
       "foreign_worker_A202       0     0     0     0     0"
      ]
     },
     "execution_count": 16,
     "metadata": {},
     "output_type": "execute_result"
    }
   ],
   "source": [
    "data_complete.head().T"
   ]
  },
  {
   "cell_type": "markdown",
   "metadata": {},
   "source": [
    "#### Change the reponse variable to 0 = No Default and 1 = Default"
   ]
  },
  {
   "cell_type": "code",
   "execution_count": 23,
   "metadata": {},
   "outputs": [],
   "source": [
    "y = data.status - 1"
   ]
  },
  {
   "cell_type": "code",
   "execution_count": 26,
   "metadata": {},
   "outputs": [],
   "source": [
    "x = data_complete"
   ]
  },
  {
   "cell_type": "markdown",
   "metadata": {},
   "source": [
    "### Specify X ( independent) and y (target/dependent) features"
   ]
  },
  {
   "cell_type": "markdown",
   "metadata": {},
   "source": [
    "### Split datasets into train and test datasets"
   ]
  },
  {
   "cell_type": "code",
   "execution_count": 25,
   "metadata": {},
   "outputs": [],
   "source": [
    "from sklearn.cross_validation import train_test_split"
   ]
  },
  {
   "cell_type": "code",
   "execution_count": 28,
   "metadata": {},
   "outputs": [],
   "source": [
    "x_train, x_test, y_train, y_test = train_test_split( x, y, test_size = 0.3)"
   ]
  },
  {
   "cell_type": "code",
   "execution_count": 30,
   "metadata": {},
   "outputs": [
    {
     "data": {
      "text/plain": [
       "300"
      ]
     },
     "execution_count": 30,
     "metadata": {},
     "output_type": "execute_result"
    }
   ],
   "source": [
    "len(y_test)\n"
   ]
  },
  {
   "cell_type": "code",
   "execution_count": 31,
   "metadata": {},
   "outputs": [
    {
     "data": {
      "text/plain": [
       "868    0\n",
       "7      0\n",
       "850    1\n",
       "471    1\n",
       "248    0\n",
       "530    0\n",
       "387    0\n",
       "Name: status, dtype: int64"
      ]
     },
     "execution_count": 31,
     "metadata": {},
     "output_type": "execute_result"
    }
   ],
   "source": [
    "y_test[0:7]"
   ]
  },
  {
   "cell_type": "markdown",
   "metadata": {},
   "source": [
    "### Build a logistic regression model"
   ]
  },
  {
   "cell_type": "code",
   "execution_count": 34,
   "metadata": {},
   "outputs": [
    {
     "name": "stderr",
     "output_type": "stream",
     "text": [
      "C:\\Users\\Rohan\\Anaconda3\\lib\\site-packages\\statsmodels\\compat\\pandas.py:56: FutureWarning: The pandas.core.datetools module is deprecated and will be removed in a future version. Please use the pandas.tseries module instead.\n",
      "  from pandas.core import datetools\n"
     ]
    }
   ],
   "source": [
    "import statsmodels.api as sm"
   ]
  },
  {
   "cell_type": "code",
   "execution_count": 35,
   "metadata": {},
   "outputs": [],
   "source": [
    "logit = sm.Logit( y_train, sm.add_constant( x_train ) )"
   ]
  },
  {
   "cell_type": "code",
   "execution_count": 36,
   "metadata": {},
   "outputs": [
    {
     "name": "stdout",
     "output_type": "stream",
     "text": [
      "Warning: Maximum number of iterations has been exceeded.\n",
      "         Current function value: 0.435755\n",
      "         Iterations: 35\n"
     ]
    },
    {
     "name": "stderr",
     "output_type": "stream",
     "text": [
      "C:\\Users\\Rohan\\Anaconda3\\lib\\site-packages\\statsmodels\\base\\model.py:496: ConvergenceWarning: Maximum Likelihood optimization failed to converge. Check mle_retvals\n",
      "  \"Check mle_retvals\", ConvergenceWarning)\n"
     ]
    }
   ],
   "source": [
    "lg = logit.fit()"
   ]
  },
  {
   "cell_type": "code",
   "execution_count": 37,
   "metadata": {},
   "outputs": [
    {
     "data": {
      "text/html": [
       "<table class=\"simpletable\">\n",
       "<caption>Logit Regression Results</caption>\n",
       "<tr>\n",
       "  <th>Dep. Variable:</th>      <td>status</td>      <th>  No. Observations:  </th>  <td>   700</td>  \n",
       "</tr>\n",
       "<tr>\n",
       "  <th>Model:</th>               <td>Logit</td>      <th>  Df Residuals:      </th>  <td>   651</td>  \n",
       "</tr>\n",
       "<tr>\n",
       "  <th>Method:</th>               <td>MLE</td>       <th>  Df Model:          </th>  <td>    48</td>  \n",
       "</tr>\n",
       "<tr>\n",
       "  <th>Date:</th>          <td>Thu, 07 Jun 2018</td> <th>  Pseudo R-squ.:     </th>  <td>0.2763</td>  \n",
       "</tr>\n",
       "<tr>\n",
       "  <th>Time:</th>              <td>23:59:27</td>     <th>  Log-Likelihood:    </th> <td> -305.03</td> \n",
       "</tr>\n",
       "<tr>\n",
       "  <th>converged:</th>           <td>False</td>      <th>  LL-Null:           </th> <td> -421.51</td> \n",
       "</tr>\n",
       "<tr>\n",
       "  <th> </th>                      <td> </td>        <th>  LLR p-value:       </th> <td>4.167e-26</td>\n",
       "</tr>\n",
       "</table>\n",
       "<table class=\"simpletable\">\n",
       "<tr>\n",
       "            <td></td>               <th>coef</th>     <th>std err</th>      <th>z</th>      <th>P>|z|</th>  <th>[0.025</th>    <th>0.975]</th>  \n",
       "</tr>\n",
       "<tr>\n",
       "  <th>const</th>                 <td>   -0.3003</td> <td>    1.343</td> <td>   -0.224</td> <td> 0.823</td> <td>   -2.932</td> <td>    2.332</td>\n",
       "</tr>\n",
       "<tr>\n",
       "  <th>duration</th>              <td>    0.0273</td> <td>    0.011</td> <td>    2.383</td> <td> 0.017</td> <td>    0.005</td> <td>    0.050</td>\n",
       "</tr>\n",
       "<tr>\n",
       "  <th>amount</th>                <td>    0.0001</td> <td> 5.27e-05</td> <td>    2.206</td> <td> 0.027</td> <td>  1.3e-05</td> <td>    0.000</td>\n",
       "</tr>\n",
       "<tr>\n",
       "  <th>inst_rate</th>             <td>    0.2865</td> <td>    0.111</td> <td>    2.588</td> <td> 0.010</td> <td>    0.070</td> <td>    0.503</td>\n",
       "</tr>\n",
       "<tr>\n",
       "  <th>residing_since</th>        <td>    0.0171</td> <td>    0.106</td> <td>    0.161</td> <td> 0.872</td> <td>   -0.191</td> <td>    0.226</td>\n",
       "</tr>\n",
       "<tr>\n",
       "  <th>age</th>                   <td>   -0.0243</td> <td>    0.011</td> <td>   -2.176</td> <td> 0.030</td> <td>   -0.046</td> <td>   -0.002</td>\n",
       "</tr>\n",
       "<tr>\n",
       "  <th>num_credits</th>           <td>    0.6520</td> <td>    0.243</td> <td>    2.681</td> <td> 0.007</td> <td>    0.175</td> <td>    1.129</td>\n",
       "</tr>\n",
       "<tr>\n",
       "  <th>dependents</th>            <td>   -0.0349</td> <td>    0.314</td> <td>   -0.111</td> <td> 0.912</td> <td>   -0.651</td> <td>    0.581</td>\n",
       "</tr>\n",
       "<tr>\n",
       "  <th>checkin_acc_A12</th>       <td>   -0.3284</td> <td>    0.269</td> <td>   -1.222</td> <td> 0.222</td> <td>   -0.855</td> <td>    0.198</td>\n",
       "</tr>\n",
       "<tr>\n",
       "  <th>checkin_acc_A13</th>       <td>   -1.1454</td> <td>    0.529</td> <td>   -2.166</td> <td> 0.030</td> <td>   -2.182</td> <td>   -0.109</td>\n",
       "</tr>\n",
       "<tr>\n",
       "  <th>checkin_acc_A14</th>       <td>   -1.5709</td> <td>    0.280</td> <td>   -5.619</td> <td> 0.000</td> <td>   -2.119</td> <td>   -1.023</td>\n",
       "</tr>\n",
       "<tr>\n",
       "  <th>credit_history_A31</th>    <td>    0.6817</td> <td>    0.677</td> <td>    1.007</td> <td> 0.314</td> <td>   -0.645</td> <td>    2.009</td>\n",
       "</tr>\n",
       "<tr>\n",
       "  <th>credit_history_A32</th>    <td>   -0.0831</td> <td>    0.518</td> <td>   -0.160</td> <td> 0.872</td> <td>   -1.098</td> <td>    0.932</td>\n",
       "</tr>\n",
       "<tr>\n",
       "  <th>credit_history_A33</th>    <td>   -0.9871</td> <td>    0.576</td> <td>   -1.714</td> <td> 0.087</td> <td>   -2.116</td> <td>    0.142</td>\n",
       "</tr>\n",
       "<tr>\n",
       "  <th>credit_history_A34</th>    <td>   -1.4340</td> <td>    0.526</td> <td>   -2.728</td> <td> 0.006</td> <td>   -2.464</td> <td>   -0.404</td>\n",
       "</tr>\n",
       "<tr>\n",
       "  <th>purpose_A41</th>           <td>   -1.8712</td> <td>    0.481</td> <td>   -3.893</td> <td> 0.000</td> <td>   -2.813</td> <td>   -0.929</td>\n",
       "</tr>\n",
       "<tr>\n",
       "  <th>purpose_A410</th>          <td>   -1.7536</td> <td>    1.137</td> <td>   -1.542</td> <td> 0.123</td> <td>   -3.982</td> <td>    0.475</td>\n",
       "</tr>\n",
       "<tr>\n",
       "  <th>purpose_A42</th>           <td>   -1.1740</td> <td>    0.326</td> <td>   -3.602</td> <td> 0.000</td> <td>   -1.813</td> <td>   -0.535</td>\n",
       "</tr>\n",
       "<tr>\n",
       "  <th>purpose_A43</th>           <td>   -1.0505</td> <td>    0.294</td> <td>   -3.579</td> <td> 0.000</td> <td>   -1.626</td> <td>   -0.475</td>\n",
       "</tr>\n",
       "<tr>\n",
       "  <th>purpose_A44</th>           <td>   -0.2145</td> <td>    0.884</td> <td>   -0.243</td> <td> 0.808</td> <td>   -1.947</td> <td>    1.518</td>\n",
       "</tr>\n",
       "<tr>\n",
       "  <th>purpose_A45</th>           <td>    0.8052</td> <td>    0.822</td> <td>    0.980</td> <td> 0.327</td> <td>   -0.805</td> <td>    2.416</td>\n",
       "</tr>\n",
       "<tr>\n",
       "  <th>purpose_A46</th>           <td>   -0.0825</td> <td>    0.504</td> <td>   -0.164</td> <td> 0.870</td> <td>   -1.071</td> <td>    0.906</td>\n",
       "</tr>\n",
       "<tr>\n",
       "  <th>purpose_A48</th>           <td>  -18.7155</td> <td> 3531.672</td> <td>   -0.005</td> <td> 0.996</td> <td>-6940.666</td> <td> 6903.235</td>\n",
       "</tr>\n",
       "<tr>\n",
       "  <th>purpose_A49</th>           <td>   -1.0971</td> <td>    0.407</td> <td>   -2.694</td> <td> 0.007</td> <td>   -1.895</td> <td>   -0.299</td>\n",
       "</tr>\n",
       "<tr>\n",
       "  <th>svaing_acc_A62</th>        <td>   -0.3117</td> <td>    0.365</td> <td>   -0.853</td> <td> 0.393</td> <td>   -1.028</td> <td>    0.404</td>\n",
       "</tr>\n",
       "<tr>\n",
       "  <th>svaing_acc_A63</th>        <td>   -0.2317</td> <td>    0.462</td> <td>   -0.501</td> <td> 0.616</td> <td>   -1.138</td> <td>    0.675</td>\n",
       "</tr>\n",
       "<tr>\n",
       "  <th>svaing_acc_A64</th>        <td>   -1.6524</td> <td>    0.723</td> <td>   -2.286</td> <td> 0.022</td> <td>   -3.069</td> <td>   -0.236</td>\n",
       "</tr>\n",
       "<tr>\n",
       "  <th>svaing_acc_A65</th>        <td>   -0.8140</td> <td>    0.313</td> <td>   -2.598</td> <td> 0.009</td> <td>   -1.428</td> <td>   -0.200</td>\n",
       "</tr>\n",
       "<tr>\n",
       "  <th>present_emp_since_A72</th> <td>   -0.0981</td> <td>    0.545</td> <td>   -0.180</td> <td> 0.857</td> <td>   -1.166</td> <td>    0.970</td>\n",
       "</tr>\n",
       "<tr>\n",
       "  <th>present_emp_since_A73</th> <td>   -0.1089</td> <td>    0.520</td> <td>   -0.209</td> <td> 0.834</td> <td>   -1.128</td> <td>    0.910</td>\n",
       "</tr>\n",
       "<tr>\n",
       "  <th>present_emp_since_A74</th> <td>   -0.9725</td> <td>    0.565</td> <td>   -1.722</td> <td> 0.085</td> <td>   -2.080</td> <td>    0.135</td>\n",
       "</tr>\n",
       "<tr>\n",
       "  <th>present_emp_since_A75</th> <td>   -0.1360</td> <td>    0.526</td> <td>   -0.258</td> <td> 0.796</td> <td>   -1.168</td> <td>    0.896</td>\n",
       "</tr>\n",
       "<tr>\n",
       "  <th>personal_status_A92</th>   <td>   -0.2116</td> <td>    0.476</td> <td>   -0.444</td> <td> 0.657</td> <td>   -1.145</td> <td>    0.722</td>\n",
       "</tr>\n",
       "<tr>\n",
       "  <th>personal_status_A93</th>   <td>   -0.6250</td> <td>    0.462</td> <td>   -1.351</td> <td> 0.177</td> <td>   -1.531</td> <td>    0.281</td>\n",
       "</tr>\n",
       "<tr>\n",
       "  <th>personal_status_A94</th>   <td>   -0.2224</td> <td>    0.548</td> <td>   -0.406</td> <td> 0.685</td> <td>   -1.296</td> <td>    0.851</td>\n",
       "</tr>\n",
       "<tr>\n",
       "  <th>other_debtors_A102</th>    <td>    0.2377</td> <td>    0.526</td> <td>    0.452</td> <td> 0.651</td> <td>   -0.792</td> <td>    1.268</td>\n",
       "</tr>\n",
       "<tr>\n",
       "  <th>other_debtors_A103</th>    <td>   -0.7076</td> <td>    0.486</td> <td>   -1.455</td> <td> 0.146</td> <td>   -1.661</td> <td>    0.246</td>\n",
       "</tr>\n",
       "<tr>\n",
       "  <th>property_A122</th>         <td>    0.5723</td> <td>    0.308</td> <td>    1.856</td> <td> 0.063</td> <td>   -0.032</td> <td>    1.177</td>\n",
       "</tr>\n",
       "<tr>\n",
       "  <th>property_A123</th>         <td>    0.3426</td> <td>    0.290</td> <td>    1.182</td> <td> 0.237</td> <td>   -0.225</td> <td>    0.911</td>\n",
       "</tr>\n",
       "<tr>\n",
       "  <th>property_A124</th>         <td>    0.4372</td> <td>    0.565</td> <td>    0.774</td> <td> 0.439</td> <td>   -0.670</td> <td>    1.545</td>\n",
       "</tr>\n",
       "<tr>\n",
       "  <th>inst_plans_A142</th>       <td>   -0.4726</td> <td>    0.521</td> <td>   -0.906</td> <td> 0.365</td> <td>   -1.495</td> <td>    0.549</td>\n",
       "</tr>\n",
       "<tr>\n",
       "  <th>inst_plans_A143</th>       <td>   -0.6733</td> <td>    0.297</td> <td>   -2.269</td> <td> 0.023</td> <td>   -1.255</td> <td>   -0.092</td>\n",
       "</tr>\n",
       "<tr>\n",
       "  <th>housing_A152</th>          <td>   -0.5129</td> <td>    0.288</td> <td>   -1.779</td> <td> 0.075</td> <td>   -1.078</td> <td>    0.052</td>\n",
       "</tr>\n",
       "<tr>\n",
       "  <th>housing_A153</th>          <td>   -0.1107</td> <td>    0.605</td> <td>   -0.183</td> <td> 0.855</td> <td>   -1.296</td> <td>    1.075</td>\n",
       "</tr>\n",
       "<tr>\n",
       "  <th>job_A172</th>              <td>    1.0012</td> <td>    0.857</td> <td>    1.168</td> <td> 0.243</td> <td>   -0.679</td> <td>    2.682</td>\n",
       "</tr>\n",
       "<tr>\n",
       "  <th>job_A173</th>              <td>    1.0458</td> <td>    0.819</td> <td>    1.277</td> <td> 0.202</td> <td>   -0.559</td> <td>    2.651</td>\n",
       "</tr>\n",
       "<tr>\n",
       "  <th>job_A174</th>              <td>    1.0297</td> <td>    0.823</td> <td>    1.252</td> <td> 0.211</td> <td>   -0.583</td> <td>    2.642</td>\n",
       "</tr>\n",
       "<tr>\n",
       "  <th>telephone_A192</th>        <td>   -0.2526</td> <td>    0.242</td> <td>   -1.043</td> <td> 0.297</td> <td>   -0.727</td> <td>    0.222</td>\n",
       "</tr>\n",
       "<tr>\n",
       "  <th>foreign_worker_A202</th>   <td>   -1.2423</td> <td>    0.738</td> <td>   -1.684</td> <td> 0.092</td> <td>   -2.688</td> <td>    0.203</td>\n",
       "</tr>\n",
       "</table>"
      ],
      "text/plain": [
       "<class 'statsmodels.iolib.summary.Summary'>\n",
       "\"\"\"\n",
       "                           Logit Regression Results                           \n",
       "==============================================================================\n",
       "Dep. Variable:                 status   No. Observations:                  700\n",
       "Model:                          Logit   Df Residuals:                      651\n",
       "Method:                           MLE   Df Model:                           48\n",
       "Date:                Thu, 07 Jun 2018   Pseudo R-squ.:                  0.2763\n",
       "Time:                        23:59:27   Log-Likelihood:                -305.03\n",
       "converged:                      False   LL-Null:                       -421.51\n",
       "                                        LLR p-value:                 4.167e-26\n",
       "=========================================================================================\n",
       "                            coef    std err          z      P>|z|      [0.025      0.975]\n",
       "-----------------------------------------------------------------------------------------\n",
       "const                    -0.3003      1.343     -0.224      0.823      -2.932       2.332\n",
       "duration                  0.0273      0.011      2.383      0.017       0.005       0.050\n",
       "amount                    0.0001   5.27e-05      2.206      0.027     1.3e-05       0.000\n",
       "inst_rate                 0.2865      0.111      2.588      0.010       0.070       0.503\n",
       "residing_since            0.0171      0.106      0.161      0.872      -0.191       0.226\n",
       "age                      -0.0243      0.011     -2.176      0.030      -0.046      -0.002\n",
       "num_credits               0.6520      0.243      2.681      0.007       0.175       1.129\n",
       "dependents               -0.0349      0.314     -0.111      0.912      -0.651       0.581\n",
       "checkin_acc_A12          -0.3284      0.269     -1.222      0.222      -0.855       0.198\n",
       "checkin_acc_A13          -1.1454      0.529     -2.166      0.030      -2.182      -0.109\n",
       "checkin_acc_A14          -1.5709      0.280     -5.619      0.000      -2.119      -1.023\n",
       "credit_history_A31        0.6817      0.677      1.007      0.314      -0.645       2.009\n",
       "credit_history_A32       -0.0831      0.518     -0.160      0.872      -1.098       0.932\n",
       "credit_history_A33       -0.9871      0.576     -1.714      0.087      -2.116       0.142\n",
       "credit_history_A34       -1.4340      0.526     -2.728      0.006      -2.464      -0.404\n",
       "purpose_A41              -1.8712      0.481     -3.893      0.000      -2.813      -0.929\n",
       "purpose_A410             -1.7536      1.137     -1.542      0.123      -3.982       0.475\n",
       "purpose_A42              -1.1740      0.326     -3.602      0.000      -1.813      -0.535\n",
       "purpose_A43              -1.0505      0.294     -3.579      0.000      -1.626      -0.475\n",
       "purpose_A44              -0.2145      0.884     -0.243      0.808      -1.947       1.518\n",
       "purpose_A45               0.8052      0.822      0.980      0.327      -0.805       2.416\n",
       "purpose_A46              -0.0825      0.504     -0.164      0.870      -1.071       0.906\n",
       "purpose_A48             -18.7155   3531.672     -0.005      0.996   -6940.666    6903.235\n",
       "purpose_A49              -1.0971      0.407     -2.694      0.007      -1.895      -0.299\n",
       "svaing_acc_A62           -0.3117      0.365     -0.853      0.393      -1.028       0.404\n",
       "svaing_acc_A63           -0.2317      0.462     -0.501      0.616      -1.138       0.675\n",
       "svaing_acc_A64           -1.6524      0.723     -2.286      0.022      -3.069      -0.236\n",
       "svaing_acc_A65           -0.8140      0.313     -2.598      0.009      -1.428      -0.200\n",
       "present_emp_since_A72    -0.0981      0.545     -0.180      0.857      -1.166       0.970\n",
       "present_emp_since_A73    -0.1089      0.520     -0.209      0.834      -1.128       0.910\n",
       "present_emp_since_A74    -0.9725      0.565     -1.722      0.085      -2.080       0.135\n",
       "present_emp_since_A75    -0.1360      0.526     -0.258      0.796      -1.168       0.896\n",
       "personal_status_A92      -0.2116      0.476     -0.444      0.657      -1.145       0.722\n",
       "personal_status_A93      -0.6250      0.462     -1.351      0.177      -1.531       0.281\n",
       "personal_status_A94      -0.2224      0.548     -0.406      0.685      -1.296       0.851\n",
       "other_debtors_A102        0.2377      0.526      0.452      0.651      -0.792       1.268\n",
       "other_debtors_A103       -0.7076      0.486     -1.455      0.146      -1.661       0.246\n",
       "property_A122             0.5723      0.308      1.856      0.063      -0.032       1.177\n",
       "property_A123             0.3426      0.290      1.182      0.237      -0.225       0.911\n",
       "property_A124             0.4372      0.565      0.774      0.439      -0.670       1.545\n",
       "inst_plans_A142          -0.4726      0.521     -0.906      0.365      -1.495       0.549\n",
       "inst_plans_A143          -0.6733      0.297     -2.269      0.023      -1.255      -0.092\n",
       "housing_A152             -0.5129      0.288     -1.779      0.075      -1.078       0.052\n",
       "housing_A153             -0.1107      0.605     -0.183      0.855      -1.296       1.075\n",
       "job_A172                  1.0012      0.857      1.168      0.243      -0.679       2.682\n",
       "job_A173                  1.0458      0.819      1.277      0.202      -0.559       2.651\n",
       "job_A174                  1.0297      0.823      1.252      0.211      -0.583       2.642\n",
       "telephone_A192           -0.2526      0.242     -1.043      0.297      -0.727       0.222\n",
       "foreign_worker_A202      -1.2423      0.738     -1.684      0.092      -2.688       0.203\n",
       "=========================================================================================\n",
       "\"\"\""
      ]
     },
     "execution_count": 37,
     "metadata": {},
     "output_type": "execute_result"
    }
   ],
   "source": [
    "from scipy import stats\n",
    "stats.chisqprob=lambda chisq,df:stats.chi2.sf(chisq,df)\n",
    "lg.summary()"
   ]
  },
  {
   "cell_type": "markdown",
   "metadata": {},
   "source": [
    "### Find significant variables"
   ]
  },
  {
   "cell_type": "code",
   "execution_count": 26,
   "metadata": {
    "collapsed": true
   },
   "outputs": [],
   "source": [
    "def get_significant_vars( lm ):\n",
    "    var_p_vals_df = pd.DataFrame( lm.pvalues )\n",
    "    var_p_vals_df['vars'] = var_p_vals_df.index\n",
    "    var_p_vals_df.columns = ['pvals', 'vars']\n",
    "    return list( var_p_vals_df[var_p_vals_df.pvals <= 0.05]['vars'] )"
   ]
  },
  {
   "cell_type": "code",
   "execution_count": 46,
   "metadata": {},
   "outputs": [
    {
     "data": {
      "text/html": [
       "<div>\n",
       "<style scoped>\n",
       "    .dataframe tbody tr th:only-of-type {\n",
       "        vertical-align: middle;\n",
       "    }\n",
       "\n",
       "    .dataframe tbody tr th {\n",
       "        vertical-align: top;\n",
       "    }\n",
       "\n",
       "    .dataframe thead th {\n",
       "        text-align: right;\n",
       "    }\n",
       "</style>\n",
       "<table border=\"1\" class=\"dataframe\">\n",
       "  <thead>\n",
       "    <tr style=\"text-align: right;\">\n",
       "      <th></th>\n",
       "      <th>0</th>\n",
       "    </tr>\n",
       "  </thead>\n",
       "  <tbody>\n",
       "    <tr>\n",
       "      <th>const</th>\n",
       "      <td>8.230439e-01</td>\n",
       "    </tr>\n",
       "    <tr>\n",
       "      <th>duration</th>\n",
       "      <td>1.716797e-02</td>\n",
       "    </tr>\n",
       "    <tr>\n",
       "      <th>amount</th>\n",
       "      <td>2.735268e-02</td>\n",
       "    </tr>\n",
       "    <tr>\n",
       "      <th>inst_rate</th>\n",
       "      <td>9.645622e-03</td>\n",
       "    </tr>\n",
       "    <tr>\n",
       "      <th>residing_since</th>\n",
       "      <td>8.719345e-01</td>\n",
       "    </tr>\n",
       "    <tr>\n",
       "      <th>age</th>\n",
       "      <td>2.955315e-02</td>\n",
       "    </tr>\n",
       "    <tr>\n",
       "      <th>num_credits</th>\n",
       "      <td>7.334351e-03</td>\n",
       "    </tr>\n",
       "    <tr>\n",
       "      <th>dependents</th>\n",
       "      <td>9.115104e-01</td>\n",
       "    </tr>\n",
       "    <tr>\n",
       "      <th>checkin_acc_A12</th>\n",
       "      <td>2.217872e-01</td>\n",
       "    </tr>\n",
       "    <tr>\n",
       "      <th>checkin_acc_A13</th>\n",
       "      <td>3.034164e-02</td>\n",
       "    </tr>\n",
       "    <tr>\n",
       "      <th>checkin_acc_A14</th>\n",
       "      <td>1.923168e-08</td>\n",
       "    </tr>\n",
       "    <tr>\n",
       "      <th>credit_history_A31</th>\n",
       "      <td>3.140296e-01</td>\n",
       "    </tr>\n",
       "    <tr>\n",
       "      <th>credit_history_A32</th>\n",
       "      <td>8.724994e-01</td>\n",
       "    </tr>\n",
       "    <tr>\n",
       "      <th>credit_history_A33</th>\n",
       "      <td>8.651267e-02</td>\n",
       "    </tr>\n",
       "    <tr>\n",
       "      <th>credit_history_A34</th>\n",
       "      <td>6.376521e-03</td>\n",
       "    </tr>\n",
       "    <tr>\n",
       "      <th>purpose_A41</th>\n",
       "      <td>9.900457e-05</td>\n",
       "    </tr>\n",
       "    <tr>\n",
       "      <th>purpose_A410</th>\n",
       "      <td>1.230790e-01</td>\n",
       "    </tr>\n",
       "    <tr>\n",
       "      <th>purpose_A42</th>\n",
       "      <td>3.162721e-04</td>\n",
       "    </tr>\n",
       "    <tr>\n",
       "      <th>purpose_A43</th>\n",
       "      <td>3.454138e-04</td>\n",
       "    </tr>\n",
       "    <tr>\n",
       "      <th>purpose_A44</th>\n",
       "      <td>8.082256e-01</td>\n",
       "    </tr>\n",
       "    <tr>\n",
       "      <th>purpose_A45</th>\n",
       "      <td>3.271428e-01</td>\n",
       "    </tr>\n",
       "    <tr>\n",
       "      <th>purpose_A46</th>\n",
       "      <td>8.700344e-01</td>\n",
       "    </tr>\n",
       "    <tr>\n",
       "      <th>purpose_A48</th>\n",
       "      <td>9.957718e-01</td>\n",
       "    </tr>\n",
       "    <tr>\n",
       "      <th>purpose_A49</th>\n",
       "      <td>7.065323e-03</td>\n",
       "    </tr>\n",
       "    <tr>\n",
       "      <th>svaing_acc_A62</th>\n",
       "      <td>3.934026e-01</td>\n",
       "    </tr>\n",
       "    <tr>\n",
       "      <th>svaing_acc_A63</th>\n",
       "      <td>6.163392e-01</td>\n",
       "    </tr>\n",
       "    <tr>\n",
       "      <th>svaing_acc_A64</th>\n",
       "      <td>2.223564e-02</td>\n",
       "    </tr>\n",
       "    <tr>\n",
       "      <th>svaing_acc_A65</th>\n",
       "      <td>9.369886e-03</td>\n",
       "    </tr>\n",
       "    <tr>\n",
       "      <th>present_emp_since_A72</th>\n",
       "      <td>8.572088e-01</td>\n",
       "    </tr>\n",
       "    <tr>\n",
       "      <th>present_emp_since_A73</th>\n",
       "      <td>8.341773e-01</td>\n",
       "    </tr>\n",
       "    <tr>\n",
       "      <th>present_emp_since_A74</th>\n",
       "      <td>8.514543e-02</td>\n",
       "    </tr>\n",
       "    <tr>\n",
       "      <th>present_emp_since_A75</th>\n",
       "      <td>7.961628e-01</td>\n",
       "    </tr>\n",
       "    <tr>\n",
       "      <th>personal_status_A92</th>\n",
       "      <td>6.567733e-01</td>\n",
       "    </tr>\n",
       "    <tr>\n",
       "      <th>personal_status_A93</th>\n",
       "      <td>1.765937e-01</td>\n",
       "    </tr>\n",
       "    <tr>\n",
       "      <th>personal_status_A94</th>\n",
       "      <td>6.846866e-01</td>\n",
       "    </tr>\n",
       "    <tr>\n",
       "      <th>other_debtors_A102</th>\n",
       "      <td>6.510319e-01</td>\n",
       "    </tr>\n",
       "    <tr>\n",
       "      <th>other_debtors_A103</th>\n",
       "      <td>1.456729e-01</td>\n",
       "    </tr>\n",
       "    <tr>\n",
       "      <th>property_A122</th>\n",
       "      <td>6.343169e-02</td>\n",
       "    </tr>\n",
       "    <tr>\n",
       "      <th>property_A123</th>\n",
       "      <td>2.370347e-01</td>\n",
       "    </tr>\n",
       "    <tr>\n",
       "      <th>property_A124</th>\n",
       "      <td>4.391080e-01</td>\n",
       "    </tr>\n",
       "    <tr>\n",
       "      <th>inst_plans_A142</th>\n",
       "      <td>3.647783e-01</td>\n",
       "    </tr>\n",
       "    <tr>\n",
       "      <th>inst_plans_A143</th>\n",
       "      <td>2.326981e-02</td>\n",
       "    </tr>\n",
       "    <tr>\n",
       "      <th>housing_A152</th>\n",
       "      <td>7.515975e-02</td>\n",
       "    </tr>\n",
       "    <tr>\n",
       "      <th>housing_A153</th>\n",
       "      <td>8.548122e-01</td>\n",
       "    </tr>\n",
       "    <tr>\n",
       "      <th>job_A172</th>\n",
       "      <td>2.429312e-01</td>\n",
       "    </tr>\n",
       "    <tr>\n",
       "      <th>job_A173</th>\n",
       "      <td>2.016361e-01</td>\n",
       "    </tr>\n",
       "    <tr>\n",
       "      <th>job_A174</th>\n",
       "      <td>2.106913e-01</td>\n",
       "    </tr>\n",
       "    <tr>\n",
       "      <th>telephone_A192</th>\n",
       "      <td>2.971534e-01</td>\n",
       "    </tr>\n",
       "    <tr>\n",
       "      <th>foreign_worker_A202</th>\n",
       "      <td>9.211773e-02</td>\n",
       "    </tr>\n",
       "  </tbody>\n",
       "</table>\n",
       "</div>"
      ],
      "text/plain": [
       "                                  0\n",
       "const                  8.230439e-01\n",
       "duration               1.716797e-02\n",
       "amount                 2.735268e-02\n",
       "inst_rate              9.645622e-03\n",
       "residing_since         8.719345e-01\n",
       "age                    2.955315e-02\n",
       "num_credits            7.334351e-03\n",
       "dependents             9.115104e-01\n",
       "checkin_acc_A12        2.217872e-01\n",
       "checkin_acc_A13        3.034164e-02\n",
       "checkin_acc_A14        1.923168e-08\n",
       "credit_history_A31     3.140296e-01\n",
       "credit_history_A32     8.724994e-01\n",
       "credit_history_A33     8.651267e-02\n",
       "credit_history_A34     6.376521e-03\n",
       "purpose_A41            9.900457e-05\n",
       "purpose_A410           1.230790e-01\n",
       "purpose_A42            3.162721e-04\n",
       "purpose_A43            3.454138e-04\n",
       "purpose_A44            8.082256e-01\n",
       "purpose_A45            3.271428e-01\n",
       "purpose_A46            8.700344e-01\n",
       "purpose_A48            9.957718e-01\n",
       "purpose_A49            7.065323e-03\n",
       "svaing_acc_A62         3.934026e-01\n",
       "svaing_acc_A63         6.163392e-01\n",
       "svaing_acc_A64         2.223564e-02\n",
       "svaing_acc_A65         9.369886e-03\n",
       "present_emp_since_A72  8.572088e-01\n",
       "present_emp_since_A73  8.341773e-01\n",
       "present_emp_since_A74  8.514543e-02\n",
       "present_emp_since_A75  7.961628e-01\n",
       "personal_status_A92    6.567733e-01\n",
       "personal_status_A93    1.765937e-01\n",
       "personal_status_A94    6.846866e-01\n",
       "other_debtors_A102     6.510319e-01\n",
       "other_debtors_A103     1.456729e-01\n",
       "property_A122          6.343169e-02\n",
       "property_A123          2.370347e-01\n",
       "property_A124          4.391080e-01\n",
       "inst_plans_A142        3.647783e-01\n",
       "inst_plans_A143        2.326981e-02\n",
       "housing_A152           7.515975e-02\n",
       "housing_A153           8.548122e-01\n",
       "job_A172               2.429312e-01\n",
       "job_A173               2.016361e-01\n",
       "job_A174               2.106913e-01\n",
       "telephone_A192         2.971534e-01\n",
       "foreign_worker_A202    9.211773e-02"
      ]
     },
     "execution_count": 46,
     "metadata": {},
     "output_type": "execute_result"
    }
   ],
   "source": [
    "var_p_vals_df= pd.DataFrame( lg.pvalues )\n",
    "var_p_vals_df"
   ]
  },
  {
   "cell_type": "code",
   "execution_count": 27,
   "metadata": {
    "collapsed": true
   },
   "outputs": [],
   "source": [
    "significant_vars = get_significant_vars( lg )"
   ]
  },
  {
   "cell_type": "code",
   "execution_count": 28,
   "metadata": {},
   "outputs": [
    {
     "data": {
      "text/plain": [
       "['duration',\n",
       " 'amount',\n",
       " 'inst_rate',\n",
       " 'checkin_acc_A12',\n",
       " 'checkin_acc_A13',\n",
       " 'checkin_acc_A14',\n",
       " 'credit_history_A34',\n",
       " 'purpose_A41',\n",
       " 'purpose_A410',\n",
       " 'purpose_A42',\n",
       " 'purpose_A43',\n",
       " 'svaing_acc_A64',\n",
       " 'svaing_acc_A65',\n",
       " 'personal_status_A93',\n",
       " 'other_debtors_A103',\n",
       " 'inst_plans_A143',\n",
       " 'foreign_worker_A202']"
      ]
     },
     "execution_count": 28,
     "metadata": {},
     "output_type": "execute_result"
    }
   ],
   "source": [
    "significant_vars"
   ]
  },
  {
   "cell_type": "markdown",
   "metadata": {},
   "source": [
    "### Predict Test Data and Measure Accuracy"
   ]
  },
  {
   "cell_type": "code",
   "execution_count": 47,
   "metadata": {},
   "outputs": [],
   "source": [
    "from sklearn import metrics"
   ]
  },
  {
   "cell_type": "code",
   "execution_count": 48,
   "metadata": {},
   "outputs": [],
   "source": [
    "def get_predictions( y_t, model ):\n",
    "    y_pred_df = pd.DataFrame( { 'actual': y_t,\n",
    "                               \"predicted_prob\": model.predict( sm.add_constant( x_test ) ) } )\n",
    "    return y_pred_df"
   ]
  },
  {
   "cell_type": "code",
   "execution_count": 49,
   "metadata": {},
   "outputs": [],
   "source": [
    "y_pred_df = get_predictions( y_test, lg )"
   ]
  },
  {
   "cell_type": "markdown",
   "metadata": {},
   "source": [
    "#### Status_1 columns provides the predicted probability for the default classes"
   ]
  },
  {
   "cell_type": "code",
   "execution_count": 50,
   "metadata": {},
   "outputs": [
    {
     "data": {
      "text/html": [
       "<div>\n",
       "<style scoped>\n",
       "    .dataframe tbody tr th:only-of-type {\n",
       "        vertical-align: middle;\n",
       "    }\n",
       "\n",
       "    .dataframe tbody tr th {\n",
       "        vertical-align: top;\n",
       "    }\n",
       "\n",
       "    .dataframe thead th {\n",
       "        text-align: right;\n",
       "    }\n",
       "</style>\n",
       "<table border=\"1\" class=\"dataframe\">\n",
       "  <thead>\n",
       "    <tr style=\"text-align: right;\">\n",
       "      <th></th>\n",
       "      <th>actual</th>\n",
       "      <th>predicted_prob</th>\n",
       "    </tr>\n",
       "  </thead>\n",
       "  <tbody>\n",
       "    <tr>\n",
       "      <th>868</th>\n",
       "      <td>0</td>\n",
       "      <td>0.251954</td>\n",
       "    </tr>\n",
       "    <tr>\n",
       "      <th>7</th>\n",
       "      <td>0</td>\n",
       "      <td>0.330128</td>\n",
       "    </tr>\n",
       "    <tr>\n",
       "      <th>850</th>\n",
       "      <td>1</td>\n",
       "      <td>0.513596</td>\n",
       "    </tr>\n",
       "    <tr>\n",
       "      <th>471</th>\n",
       "      <td>1</td>\n",
       "      <td>0.758397</td>\n",
       "    </tr>\n",
       "    <tr>\n",
       "      <th>248</th>\n",
       "      <td>0</td>\n",
       "      <td>0.108452</td>\n",
       "    </tr>\n",
       "    <tr>\n",
       "      <th>530</th>\n",
       "      <td>0</td>\n",
       "      <td>0.596095</td>\n",
       "    </tr>\n",
       "    <tr>\n",
       "      <th>387</th>\n",
       "      <td>0</td>\n",
       "      <td>0.345426</td>\n",
       "    </tr>\n",
       "    <tr>\n",
       "      <th>799</th>\n",
       "      <td>0</td>\n",
       "      <td>0.112654</td>\n",
       "    </tr>\n",
       "    <tr>\n",
       "      <th>995</th>\n",
       "      <td>0</td>\n",
       "      <td>0.040025</td>\n",
       "    </tr>\n",
       "    <tr>\n",
       "      <th>252</th>\n",
       "      <td>1</td>\n",
       "      <td>0.819386</td>\n",
       "    </tr>\n",
       "  </tbody>\n",
       "</table>\n",
       "</div>"
      ],
      "text/plain": [
       "     actual  predicted_prob\n",
       "868       0        0.251954\n",
       "7         0        0.330128\n",
       "850       1        0.513596\n",
       "471       1        0.758397\n",
       "248       0        0.108452\n",
       "530       0        0.596095\n",
       "387       0        0.345426\n",
       "799       0        0.112654\n",
       "995       0        0.040025\n",
       "252       1        0.819386"
      ]
     },
     "execution_count": 50,
     "metadata": {},
     "output_type": "execute_result"
    }
   ],
   "source": [
    "y_pred_df[0:10]"
   ]
  },
  {
   "cell_type": "code",
   "execution_count": 37,
   "metadata": {
    "collapsed": true
   },
   "outputs": [],
   "source": [
    "y_pred_df['predicted'] = y_pred_df.predicted_prob.map( lambda x: 1 if x > 0.5 else 0)"
   ]
  },
  {
   "cell_type": "code",
   "execution_count": 38,
   "metadata": {},
   "outputs": [
    {
     "data": {
      "text/html": [
       "<div>\n",
       "<style scoped>\n",
       "    .dataframe tbody tr th:only-of-type {\n",
       "        vertical-align: middle;\n",
       "    }\n",
       "\n",
       "    .dataframe tbody tr th {\n",
       "        vertical-align: top;\n",
       "    }\n",
       "\n",
       "    .dataframe thead th {\n",
       "        text-align: right;\n",
       "    }\n",
       "</style>\n",
       "<table border=\"1\" class=\"dataframe\">\n",
       "  <thead>\n",
       "    <tr style=\"text-align: right;\">\n",
       "      <th></th>\n",
       "      <th>actual</th>\n",
       "      <th>predicted_prob</th>\n",
       "      <th>predicted</th>\n",
       "    </tr>\n",
       "  </thead>\n",
       "  <tbody>\n",
       "    <tr>\n",
       "      <th>726</th>\n",
       "      <td>0</td>\n",
       "      <td>0.033639</td>\n",
       "      <td>0</td>\n",
       "    </tr>\n",
       "    <tr>\n",
       "      <th>271</th>\n",
       "      <td>0</td>\n",
       "      <td>0.031544</td>\n",
       "      <td>0</td>\n",
       "    </tr>\n",
       "    <tr>\n",
       "      <th>560</th>\n",
       "      <td>0</td>\n",
       "      <td>0.269457</td>\n",
       "      <td>0</td>\n",
       "    </tr>\n",
       "    <tr>\n",
       "      <th>49</th>\n",
       "      <td>0</td>\n",
       "      <td>0.128972</td>\n",
       "      <td>0</td>\n",
       "    </tr>\n",
       "    <tr>\n",
       "      <th>645</th>\n",
       "      <td>1</td>\n",
       "      <td>0.301391</td>\n",
       "      <td>0</td>\n",
       "    </tr>\n",
       "    <tr>\n",
       "      <th>928</th>\n",
       "      <td>0</td>\n",
       "      <td>0.048668</td>\n",
       "      <td>0</td>\n",
       "    </tr>\n",
       "    <tr>\n",
       "      <th>325</th>\n",
       "      <td>0</td>\n",
       "      <td>0.016738</td>\n",
       "      <td>0</td>\n",
       "    </tr>\n",
       "    <tr>\n",
       "      <th>718</th>\n",
       "      <td>0</td>\n",
       "      <td>0.042798</td>\n",
       "      <td>0</td>\n",
       "    </tr>\n",
       "    <tr>\n",
       "      <th>262</th>\n",
       "      <td>0</td>\n",
       "      <td>0.468095</td>\n",
       "      <td>0</td>\n",
       "    </tr>\n",
       "    <tr>\n",
       "      <th>904</th>\n",
       "      <td>0</td>\n",
       "      <td>0.054082</td>\n",
       "      <td>0</td>\n",
       "    </tr>\n",
       "  </tbody>\n",
       "</table>\n",
       "</div>"
      ],
      "text/plain": [
       "     actual  predicted_prob  predicted\n",
       "726       0        0.033639          0\n",
       "271       0        0.031544          0\n",
       "560       0        0.269457          0\n",
       "49        0        0.128972          0\n",
       "645       1        0.301391          0\n",
       "928       0        0.048668          0\n",
       "325       0        0.016738          0\n",
       "718       0        0.042798          0\n",
       "262       0        0.468095          0\n",
       "904       0        0.054082          0"
      ]
     },
     "execution_count": 38,
     "metadata": {},
     "output_type": "execute_result"
    }
   ],
   "source": [
    "y_pred_df[0:10]"
   ]
  },
  {
   "cell_type": "code",
   "execution_count": null,
   "metadata": {
    "collapsed": true
   },
   "outputs": [],
   "source": []
  },
  {
   "cell_type": "markdown",
   "metadata": {},
   "source": [
    "### Create confusion matrix to find out Sensitivity and specificity"
   ]
  },
  {
   "cell_type": "code",
   "execution_count": 51,
   "metadata": {},
   "outputs": [],
   "source": [
    "import matplotlib.pylab as plt\n",
    "import seaborn as sn\n",
    "%matplotlib inline "
   ]
  },
  {
   "cell_type": "code",
   "execution_count": 52,
   "metadata": {},
   "outputs": [],
   "source": [
    "def draw_cm( actual, predicted ):\n",
    "    cm = metrics.confusion_matrix( actual, predicted, [1,0] )\n",
    "    sn.heatmap(cm, annot=True,  fmt='.2f', xticklabels = [\"Default\", \"No Default\"] , yticklabels = [\"Default\", \"No Default\"] )\n",
    "    plt.ylabel('True label')\n",
    "    plt.xlabel('Predicted label')\n",
    "    plt.show()"
   ]
  },
  {
   "cell_type": "code",
   "execution_count": 41,
   "metadata": {},
   "outputs": [
    {
     "data": {
      "image/png": "[encoded data removed]",
      "text/plain": [
       "<matplotlib.figure.Figure at 0x7f7c96512e48>"
      ]
     },
     "metadata": {},
     "output_type": "display_data"
    }
   ],
   "source": [
    "draw_cm( y_pred_df.actual, y_pred_df.predicted )"
   ]
  },
  {
   "cell_type": "markdown",
   "metadata": {
    "collapsed": true
   },
   "source": [
    "Note: the model could only predict very few default classes."
   ]
  },
  {
   "cell_type": "markdown",
   "metadata": {
    "collapsed": true
   },
   "source": [
    "#### Overall accuracy of the model "
   ]
  },
  {
   "cell_type": "code",
   "execution_count": 42,
   "metadata": {},
   "outputs": [
    {
     "name": "stdout",
     "output_type": "stream",
     "text": [
      "Total Accuracy :  0.76\n"
     ]
    }
   ],
   "source": [
    "print( 'Total Accuracy : ',np.round( metrics.accuracy_score( y_test, y_pred_df.predicted ), 2 ) )"
   ]
  },
  {
   "cell_type": "code",
   "execution_count": 43,
   "metadata": {},
   "outputs": [
    {
     "name": "stdout",
     "output_type": "stream",
     "text": [
      "Precision :  0.63\n"
     ]
    }
   ],
   "source": [
    "print( 'Precision : ',np.round( metrics.precision_score( y_test, y_pred_df.predicted ), 2 ) )"
   ]
  },
  {
   "cell_type": "code",
   "execution_count": 44,
   "metadata": {},
   "outputs": [
    {
     "name": "stdout",
     "output_type": "stream",
     "text": [
      "Recall :  0.46\n"
     ]
    }
   ],
   "source": [
    "print( 'Recall : ',np.round( metrics.recall_score( y_test, y_pred_df.predicted ), 2 ) )"
   ]
  },
  {
   "cell_type": "code",
   "execution_count": 45,
   "metadata": {
    "collapsed": true
   },
   "outputs": [],
   "source": [
    "cm1 = metrics.confusion_matrix( y_pred_df.actual, y_pred_df.predicted, [1,0] )"
   ]
  },
  {
   "cell_type": "code",
   "execution_count": 46,
   "metadata": {
    "collapsed": true
   },
   "outputs": [],
   "source": [
    "sensitivity = cm1[0,0]/(cm1[0,0]+cm1[0,1])"
   ]
  },
  {
   "cell_type": "code",
   "execution_count": 47,
   "metadata": {},
   "outputs": [
    {
     "name": "stdout",
     "output_type": "stream",
     "text": [
      "Sensitivity :  0.46\n"
     ]
    }
   ],
   "source": [
    "print('Sensitivity : ', round( sensitivity, 2) )"
   ]
  },
  {
   "cell_type": "code",
   "execution_count": 48,
   "metadata": {
    "collapsed": true
   },
   "outputs": [],
   "source": [
    "specificity = cm1[1,1]/(cm1[1,0]+cm1[1,1])"
   ]
  },
  {
   "cell_type": "code",
   "execution_count": 49,
   "metadata": {},
   "outputs": [
    {
     "name": "stdout",
     "output_type": "stream",
     "text": [
      "Specificity :  0.89\n"
     ]
    }
   ],
   "source": [
    "print('Specificity : ', round( specificity, 2 ) )"
   ]
  },
  {
   "cell_type": "markdown",
   "metadata": {},
   "source": [
    "### Predicted Probability distribution Plots for Defaults and Non Defaults "
   ]
  },
  {
   "cell_type": "code",
   "execution_count": 50,
   "metadata": {},
   "outputs": [
    {
     "data": {
      "text/plain": [
       "<matplotlib.axes._subplots.AxesSubplot at 0x7f7c95bef198>"
      ]
     },
     "execution_count": 50,
     "metadata": {},
     "output_type": "execute_result"
    },
    {
     "data": {
      "image/png": "[encoded data removed]",
      "text/plain": [
       "<matplotlib.figure.Figure at 0x7f7c97e9ddd8>"
      ]
     },
     "metadata": {},
     "output_type": "display_data"
    }
   ],
   "source": [
    "sn.distplot( y_pred_df[y_pred_df.actual == 1][\"predicted_prob\"], kde=False, color = 'b' )\n",
    "sn.distplot( y_pred_df[y_pred_df.actual == 0][\"predicted_prob\"], kde=False, color = 'g' )"
   ]
  },
  {
   "cell_type": "markdown",
   "metadata": {},
   "source": [
    "### Draw ROC Plot"
   ]
  },
  {
   "cell_type": "code",
   "execution_count": 53,
   "metadata": {},
   "outputs": [
    {
     "data": {
      "text/plain": [
       "0.78"
      ]
     },
     "execution_count": 53,
     "metadata": {},
     "output_type": "execute_result"
    }
   ],
   "source": [
    "auc_score = metrics.roc_auc_score( y_pred_df.actual, y_pred_df.predicted_prob  )\n",
    "round( float( auc_score ), 2 )"
   ]
  },
  {
   "cell_type": "code",
   "execution_count": 54,
   "metadata": {},
   "outputs": [],
   "source": [
    "def draw_roc( actual, probs ):\n",
    "    fpr, tpr, thresholds = metrics.roc_curve( actual, probs,\n",
    "                                              drop_intermediate = False )\n",
    "    auc_score = metrics.roc_auc_score( actual, probs )\n",
    "    plt.figure(figsize=(6, 4))\n",
    "    plt.plot( fpr, tpr, label='ROC curve (area = %0.2f)' % auc_score )\n",
    "    plt.plot([0, 1], [0, 1], 'k--')\n",
    "    plt.xlim([0.0, 1.0])\n",
    "    plt.ylim([0.0, 1.05])\n",
    "    plt.xlabel('False Positive Rate or [1 - True Negative Rate]')\n",
    "    plt.ylabel('True Positive Rate')\n",
    "    plt.title('Receiver operating characteristic example')\n",
    "    plt.legend(loc=\"lower right\")\n",
    "    plt.show()\n",
    "\n",
    "    return fpr, tpr, thresholds"
   ]
  },
  {
   "cell_type": "code",
   "execution_count": 55,
   "metadata": {},
   "outputs": [
    {
     "data": {
      "image/png": "[encoded data removed]",
      "text/plain": [
       "<matplotlib.figure.Figure at 0x213443b5278>"
      ]
     },
     "metadata": {},
     "output_type": "display_data"
    }
   ],
   "source": [
    "fpr, tpr, thresholds = draw_roc( y_pred_df.actual, y_pred_df.predicted_prob )"
   ]
  },
  {
   "cell_type": "markdown",
   "metadata": {},
   "source": [
    "### Draw ROC Plot"
   ]
  },
  {
   "cell_type": "code",
   "execution_count": 56,
   "metadata": {},
   "outputs": [
    {
     "data": {
      "text/plain": [
       "array([1.95084015, 0.95084015, 0.93277466, 0.91284654, 0.90442957,\n",
       "       0.90196343, 0.87940175, 0.87899467, 0.87357464, 0.8676114 ])"
      ]
     },
     "execution_count": 56,
     "metadata": {},
     "output_type": "execute_result"
    }
   ],
   "source": [
    "thresholds[0:10]"
   ]
  },
  {
   "cell_type": "code",
   "execution_count": 57,
   "metadata": {},
   "outputs": [
    {
     "data": {
      "text/plain": [
       "array([0.        , 0.00492611, 0.00492611, 0.00492611, 0.00492611,\n",
       "       0.00492611, 0.00492611, 0.00492611, 0.00492611, 0.00492611])"
      ]
     },
     "execution_count": 57,
     "metadata": {},
     "output_type": "execute_result"
    }
   ],
   "source": [
    "fpr[0:10]"
   ]
  },
  {
   "cell_type": "code",
   "execution_count": 58,
   "metadata": {},
   "outputs": [
    {
     "data": {
      "text/plain": [
       "array([0.        , 0.        , 0.01030928, 0.02061856, 0.03092784,\n",
       "       0.04123711, 0.05154639, 0.06185567, 0.07216495, 0.08247423])"
      ]
     },
     "execution_count": 58,
     "metadata": {},
     "output_type": "execute_result"
    }
   ],
   "source": [
    "tpr[0:10]"
   ]
  },
  {
   "cell_type": "code",
   "execution_count": null,
   "metadata": {
    "collapsed": true
   },
   "outputs": [],
   "source": []
  },
  {
   "cell_type": "markdown",
   "metadata": {},
   "source": [
    "### Find optimal cutoff probability using yoden's index"
   ]
  },
  {
   "cell_type": "markdown",
   "metadata": {},
   "source": [
    "1. Youden's index is where (Sensitivity+Specificity - 1) is maximum.\n",
    "\n",
    "That is when (TPR+TNR -1) is maximum.\n",
    "\n",
    "max( TPR - (1 - TNR) )\n",
    "\n",
    "max( TPR - FPR )"
   ]
  },
  {
   "cell_type": "code",
   "execution_count": 57,
   "metadata": {
    "collapsed": true
   },
   "outputs": [],
   "source": [
    "tpr_fpr = pd.DataFrame( { 'tpr': tpr, 'fpr': fpr, 'thresholds': thresholds } )"
   ]
  },
  {
   "cell_type": "code",
   "execution_count": 58,
   "metadata": {
    "collapsed": true
   },
   "outputs": [],
   "source": [
    "tpr_fpr['diff'] = tpr_fpr.tpr - tpr_fpr.fpr"
   ]
  },
  {
   "cell_type": "code",
   "execution_count": 59,
   "metadata": {},
   "outputs": [
    {
     "data": {
      "text/html": [
       "<div>\n",
       "<style scoped>\n",
       "    .dataframe tbody tr th:only-of-type {\n",
       "        vertical-align: middle;\n",
       "    }\n",
       "\n",
       "    .dataframe tbody tr th {\n",
       "        vertical-align: top;\n",
       "    }\n",
       "\n",
       "    .dataframe thead th {\n",
       "        text-align: right;\n",
       "    }\n",
       "</style>\n",
       "<table border=\"1\" class=\"dataframe\">\n",
       "  <thead>\n",
       "    <tr style=\"text-align: right;\">\n",
       "      <th></th>\n",
       "      <th>fpr</th>\n",
       "      <th>thresholds</th>\n",
       "      <th>tpr</th>\n",
       "      <th>diff</th>\n",
       "    </tr>\n",
       "  </thead>\n",
       "  <tbody>\n",
       "    <tr>\n",
       "      <th>90</th>\n",
       "      <td>0.161905</td>\n",
       "      <td>0.374776</td>\n",
       "      <td>0.633333</td>\n",
       "      <td>0.471429</td>\n",
       "    </tr>\n",
       "    <tr>\n",
       "      <th>120</th>\n",
       "      <td>0.261905</td>\n",
       "      <td>0.278811</td>\n",
       "      <td>0.733333</td>\n",
       "      <td>0.471429</td>\n",
       "    </tr>\n",
       "    <tr>\n",
       "      <th>117</th>\n",
       "      <td>0.252381</td>\n",
       "      <td>0.289448</td>\n",
       "      <td>0.722222</td>\n",
       "      <td>0.469841</td>\n",
       "    </tr>\n",
       "    <tr>\n",
       "      <th>124</th>\n",
       "      <td>0.276190</td>\n",
       "      <td>0.261516</td>\n",
       "      <td>0.744444</td>\n",
       "      <td>0.468254</td>\n",
       "    </tr>\n",
       "    <tr>\n",
       "      <th>114</th>\n",
       "      <td>0.242857</td>\n",
       "      <td>0.301391</td>\n",
       "      <td>0.711111</td>\n",
       "      <td>0.468254</td>\n",
       "    </tr>\n",
       "    <tr>\n",
       "      <th>131</th>\n",
       "      <td>0.300000</td>\n",
       "      <td>0.234052</td>\n",
       "      <td>0.766667</td>\n",
       "      <td>0.466667</td>\n",
       "    </tr>\n",
       "    <tr>\n",
       "      <th>81</th>\n",
       "      <td>0.133333</td>\n",
       "      <td>0.405953</td>\n",
       "      <td>0.600000</td>\n",
       "      <td>0.466667</td>\n",
       "    </tr>\n",
       "    <tr>\n",
       "      <th>91</th>\n",
       "      <td>0.166667</td>\n",
       "      <td>0.374052</td>\n",
       "      <td>0.633333</td>\n",
       "      <td>0.466667</td>\n",
       "    </tr>\n",
       "    <tr>\n",
       "      <th>121</th>\n",
       "      <td>0.266667</td>\n",
       "      <td>0.277631</td>\n",
       "      <td>0.733333</td>\n",
       "      <td>0.466667</td>\n",
       "    </tr>\n",
       "    <tr>\n",
       "      <th>118</th>\n",
       "      <td>0.257143</td>\n",
       "      <td>0.286390</td>\n",
       "      <td>0.722222</td>\n",
       "      <td>0.465079</td>\n",
       "    </tr>\n",
       "  </tbody>\n",
       "</table>\n",
       "</div>"
      ],
      "text/plain": [
       "          fpr  thresholds       tpr      diff\n",
       "90   0.161905    0.374776  0.633333  0.471429\n",
       "120  0.261905    0.278811  0.733333  0.471429\n",
       "117  0.252381    0.289448  0.722222  0.469841\n",
       "124  0.276190    0.261516  0.744444  0.468254\n",
       "114  0.242857    0.301391  0.711111  0.468254\n",
       "131  0.300000    0.234052  0.766667  0.466667\n",
       "81   0.133333    0.405953  0.600000  0.466667\n",
       "91   0.166667    0.374052  0.633333  0.466667\n",
       "121  0.266667    0.277631  0.733333  0.466667\n",
       "118  0.257143    0.286390  0.722222  0.465079"
      ]
     },
     "execution_count": 59,
     "metadata": {},
     "output_type": "execute_result"
    }
   ],
   "source": [
    "tpr_fpr.sort_values( 'diff', ascending = False )[0:10]"
   ]
  },
  {
   "cell_type": "code",
   "execution_count": 60,
   "metadata": {
    "collapsed": true
   },
   "outputs": [],
   "source": [
    "y_pred_df['predicted_new'] = y_pred_df.predicted_prob.map( lambda x: 1 if x > 0.29 else 0)"
   ]
  },
  {
   "cell_type": "code",
   "execution_count": 61,
   "metadata": {},
   "outputs": [
    {
     "data": {
      "image/png": "[encoded data removed]",
      "text/plain": [
       "<matplotlib.figure.Figure at 0x7f7c96595f98>"
      ]
     },
     "metadata": {},
     "output_type": "display_data"
    }
   ],
   "source": [
    "draw_cm( y_pred_df.actual, y_pred_df.predicted_new )"
   ]
  },
  {
   "cell_type": "code",
   "execution_count": null,
   "metadata": {
    "collapsed": true
   },
   "outputs": [],
   "source": []
  },
  {
   "cell_type": "markdown",
   "metadata": {},
   "source": [
    "### Find optimal cutoff probability using cost"
   ]
  },
  {
   "cell_type": "code",
   "execution_count": 62,
   "metadata": {
    "collapsed": true
   },
   "outputs": [],
   "source": [
    "cm = metrics.confusion_matrix( y_pred_df.actual, y_pred_df.predicted_new, [1,0] )"
   ]
  },
  {
   "cell_type": "code",
   "execution_count": 63,
   "metadata": {
    "collapsed": true
   },
   "outputs": [],
   "source": [
    "cm_mat = np.array( cm )"
   ]
  },
  {
   "cell_type": "code",
   "execution_count": 64,
   "metadata": {},
   "outputs": [
    {
     "data": {
      "text/plain": [
       "53"
      ]
     },
     "execution_count": 64,
     "metadata": {},
     "output_type": "execute_result"
    }
   ],
   "source": [
    "cm_mat[1, 0]"
   ]
  },
  {
   "cell_type": "code",
   "execution_count": 65,
   "metadata": {},
   "outputs": [
    {
     "data": {
      "text/plain": [
       "26"
      ]
     },
     "execution_count": 65,
     "metadata": {},
     "output_type": "execute_result"
    }
   ],
   "source": [
    "cm_mat[0, 1]"
   ]
  },
  {
   "cell_type": "code",
   "execution_count": 66,
   "metadata": {
    "collapsed": true
   },
   "outputs": [],
   "source": [
    "def get_total_cost( actual, predicted ):\n",
    "    cm = metrics.confusion_matrix( actual, predicted, [1,0] )\n",
    "    cm_mat = np.array( cm )\n",
    "    return cm_mat[0,1] * 2 + cm_mat[0,1] * 1"
   ]
  },
  {
   "cell_type": "code",
   "execution_count": 67,
   "metadata": {},
   "outputs": [
    {
     "data": {
      "text/plain": [
       "78"
      ]
     },
     "execution_count": 67,
     "metadata": {},
     "output_type": "execute_result"
    }
   ],
   "source": [
    "get_total_cost( y_pred_df.actual, y_pred_df.predicted_new )"
   ]
  },
  {
   "cell_type": "code",
   "execution_count": 68,
   "metadata": {
    "collapsed": true
   },
   "outputs": [],
   "source": [
    "cost_df = pd.DataFrame( columns = ['prob', 'cost'])"
   ]
  },
  {
   "cell_type": "code",
   "execution_count": 69,
   "metadata": {
    "collapsed": true
   },
   "outputs": [],
   "source": [
    "idx = 0\n",
    "for each_prob in range( 20, 50):\n",
    "    cost = get_total_cost( y_pred_df.actual,\n",
    "                          y_pred_df.predicted_prob.map(\n",
    "            lambda x: 1 if x > (each_prob/100)  else 0) )\n",
    "    cost_df.loc[idx] = [(each_prob/100), cost]\n",
    "    idx += 1"
   ]
  },
  {
   "cell_type": "code",
   "execution_count": 70,
   "metadata": {},
   "outputs": [
    {
     "data": {
      "text/html": [
       "<div>\n",
       "<style scoped>\n",
       "    .dataframe tbody tr th:only-of-type {\n",
       "        vertical-align: middle;\n",
       "    }\n",
       "\n",
       "    .dataframe tbody tr th {\n",
       "        vertical-align: top;\n",
       "    }\n",
       "\n",
       "    .dataframe thead th {\n",
       "        text-align: right;\n",
       "    }\n",
       "</style>\n",
       "<table border=\"1\" class=\"dataframe\">\n",
       "  <thead>\n",
       "    <tr style=\"text-align: right;\">\n",
       "      <th></th>\n",
       "      <th>prob</th>\n",
       "      <th>cost</th>\n",
       "    </tr>\n",
       "  </thead>\n",
       "  <tbody>\n",
       "    <tr>\n",
       "      <th>0</th>\n",
       "      <td>0.20</td>\n",
       "      <td>60.0</td>\n",
       "    </tr>\n",
       "    <tr>\n",
       "      <th>1</th>\n",
       "      <td>0.21</td>\n",
       "      <td>63.0</td>\n",
       "    </tr>\n",
       "    <tr>\n",
       "      <th>2</th>\n",
       "      <td>0.22</td>\n",
       "      <td>63.0</td>\n",
       "    </tr>\n",
       "    <tr>\n",
       "      <th>3</th>\n",
       "      <td>0.23</td>\n",
       "      <td>63.0</td>\n",
       "    </tr>\n",
       "    <tr>\n",
       "      <th>4</th>\n",
       "      <td>0.24</td>\n",
       "      <td>69.0</td>\n",
       "    </tr>\n",
       "  </tbody>\n",
       "</table>\n",
       "</div>"
      ],
      "text/plain": [
       "   prob  cost\n",
       "0  0.20  60.0\n",
       "1  0.21  63.0\n",
       "2  0.22  63.0\n",
       "3  0.23  63.0\n",
       "4  0.24  69.0"
      ]
     },
     "execution_count": 70,
     "metadata": {},
     "output_type": "execute_result"
    }
   ],
   "source": [
    "cost_df.sort_values( 'cost', ascending = True )[0:5]"
   ]
  },
  {
   "cell_type": "code",
   "execution_count": 71,
   "metadata": {
    "collapsed": true
   },
   "outputs": [],
   "source": [
    "y_pred_df['predicted_final'] = y_pred_df.predicted_prob.map( lambda x: 1 if x > 0.20 else 0)"
   ]
  },
  {
   "cell_type": "code",
   "execution_count": 72,
   "metadata": {},
   "outputs": [
    {
     "data": {
      "image/png": "[encoded data removed]",
      "text/plain": [
       "<matplotlib.figure.Figure at 0x7f7c959f8c88>"
      ]
     },
     "metadata": {},
     "output_type": "display_data"
    }
   ],
   "source": [
    "draw_cm( y_pred_df.actual, y_pred_df.predicted_final )"
   ]
  },
  {
   "cell_type": "markdown",
   "metadata": {},
   "source": [
    "Note: Predicting Defaults as No Defaults have been minimized"
   ]
  },
  {
   "cell_type": "code",
   "execution_count": 73,
   "metadata": {},
   "outputs": [
    {
     "name": "stdout",
     "output_type": "stream",
     "text": [
      "Total Accuracy :  0.66\n",
      "Precision :  0.46\n",
      "Recall :  0.78\n",
      "Sensitivity :  0.78\n",
      "Specificity :  0.61\n"
     ]
    }
   ],
   "source": [
    "print( 'Total Accuracy : ',np.round( metrics.accuracy_score( y_test, y_pred_df.predicted_final ), 2 ) )\n",
    "print( 'Precision : ',np.round( metrics.precision_score( y_test, y_pred_df.predicted_final ), 2 ) )\n",
    "print( 'Recall : ',np.round( metrics.recall_score( y_test, y_pred_df.predicted_final ), 2 ) )\n",
    "\n",
    "cm1 = metrics.confusion_matrix( y_pred_df.actual, y_pred_df.predicted_final, [1,0] )\n",
    "\n",
    "sensitivity = cm1[0,0]/(cm1[0,0]+cm1[0,1])\n",
    "print('Sensitivity : ', round( sensitivity, 2) )\n",
    "\n",
    "specificity = cm1[1,1]/(cm1[1,0]+cm1[1,1])\n",
    "print('Specificity : ', round( specificity, 2 ) )"
   ]
  },
  {
   "cell_type": "markdown",
   "metadata": {},
   "source": [
    "## Note: Total accuracy of the model is 67%, becuase the objective is not to improve total accuracy but minimize the quadrants that contribute to the cost."
   ]
  },
  {
   "cell_type": "code",
   "execution_count": null,
   "metadata": {
    "collapsed": true
   },
   "outputs": [],
   "source": []
  }
 ],
 "metadata": {
  "kernelspec": {
   "display_name": "Python 3",
   "language": "python",
   "name": "python3"
  },
  "language_info": {
   "codemirror_mode": {
    "name": "ipython",
    "version": 3
   },
   "file_extension": ".py",
   "mimetype": "text/x-python",
   "name": "python",
   "nbconvert_exporter": "python",
   "pygments_lexer": "ipython3",
   "version": "3.6.4"
  }
 },
 "nbformat": 4,
 "nbformat_minor": 2
}
